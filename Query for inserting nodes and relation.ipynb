{
 "cells": [
  {
   "cell_type": "code",
   "execution_count": 1,
   "metadata": {
    "pycharm": {
     "is_executing": false
    }
   },
   "outputs": [],
   "source": [
    "import pandas as pd\n",
    "from neo4j import GraphDatabase"
   ]
  },
  {
   "cell_type": "code",
   "execution_count": 2,
   "metadata": {
    "pycharm": {
     "is_executing": false
    }
   },
   "outputs": [
    {
     "data": {
      "text/html": [
       "<div>\n",
       "<style scoped>\n",
       "    .dataframe tbody tr th:only-of-type {\n",
       "        vertical-align: middle;\n",
       "    }\n",
       "\n",
       "    .dataframe tbody tr th {\n",
       "        vertical-align: top;\n",
       "    }\n",
       "\n",
       "    .dataframe thead th {\n",
       "        text-align: right;\n",
       "    }\n",
       "</style>\n",
       "<table border=\"1\" class=\"dataframe\">\n",
       "  <thead>\n",
       "    <tr style=\"text-align: right;\">\n",
       "      <th></th>\n",
       "      <th>index</th>\n",
       "      <th>id</th>\n",
       "      <th>name</th>\n",
       "      <th>brand</th>\n",
       "      <th>categories</th>\n",
       "      <th>manufacturer</th>\n",
       "      <th>rating</th>\n",
       "      <th>text</th>\n",
       "      <th>username</th>\n",
       "      <th>age</th>\n",
       "    </tr>\n",
       "  </thead>\n",
       "  <tbody>\n",
       "    <tr>\n",
       "      <td>0</td>\n",
       "      <td>0</td>\n",
       "      <td>1</td>\n",
       "      <td>All-New Fire HD 8 Tablet, 8 HD Display, Wi-Fi,...</td>\n",
       "      <td>Amazon</td>\n",
       "      <td>Electronics,iPad &amp; Tablets,All Tablets,Fire Ta...</td>\n",
       "      <td>Amazon</td>\n",
       "      <td>5.0</td>\n",
       "      <td>This product so far has not disappointed. My c...</td>\n",
       "      <td>Adapter</td>\n",
       "      <td>52</td>\n",
       "    </tr>\n",
       "    <tr>\n",
       "      <td>1</td>\n",
       "      <td>1</td>\n",
       "      <td>1</td>\n",
       "      <td>All-New Fire HD 8 Tablet, 8 HD Display, Wi-Fi,...</td>\n",
       "      <td>Amazon</td>\n",
       "      <td>Electronics,iPad &amp; Tablets,All Tablets,Fire Ta...</td>\n",
       "      <td>Amazon</td>\n",
       "      <td>5.0</td>\n",
       "      <td>great for beginner or experienced person. Boug...</td>\n",
       "      <td>truman</td>\n",
       "      <td>51</td>\n",
       "    </tr>\n",
       "    <tr>\n",
       "      <td>2</td>\n",
       "      <td>2</td>\n",
       "      <td>1</td>\n",
       "      <td>All-New Fire HD 8 Tablet, 8 HD Display, Wi-Fi,...</td>\n",
       "      <td>Amazon</td>\n",
       "      <td>Electronics,iPad &amp; Tablets,All Tablets,Fire Ta...</td>\n",
       "      <td>Amazon</td>\n",
       "      <td>5.0</td>\n",
       "      <td>Inexpensive tablet for him to use and learn on...</td>\n",
       "      <td>DaveZ</td>\n",
       "      <td>23</td>\n",
       "    </tr>\n",
       "    <tr>\n",
       "      <td>3</td>\n",
       "      <td>3</td>\n",
       "      <td>1</td>\n",
       "      <td>All-New Fire HD 8 Tablet, 8 HD Display, Wi-Fi,...</td>\n",
       "      <td>Amazon</td>\n",
       "      <td>Electronics,iPad &amp; Tablets,All Tablets,Fire Ta...</td>\n",
       "      <td>Amazon</td>\n",
       "      <td>4.0</td>\n",
       "      <td>I've had my Fire HD 8 two weeks now and I love...</td>\n",
       "      <td>Shacks</td>\n",
       "      <td>25</td>\n",
       "    </tr>\n",
       "    <tr>\n",
       "      <td>4</td>\n",
       "      <td>4</td>\n",
       "      <td>1</td>\n",
       "      <td>All-New Fire HD 8 Tablet, 8 HD Display, Wi-Fi,...</td>\n",
       "      <td>Amazon</td>\n",
       "      <td>Electronics,iPad &amp; Tablets,All Tablets,Fire Ta...</td>\n",
       "      <td>Amazon</td>\n",
       "      <td>5.0</td>\n",
       "      <td>I bought this for my grand daughter when she c...</td>\n",
       "      <td>explore42</td>\n",
       "      <td>34</td>\n",
       "    </tr>\n",
       "  </tbody>\n",
       "</table>\n",
       "</div>"
      ],
      "text/plain": [
       "   index  id                                               name   brand  \\\n",
       "0      0   1  All-New Fire HD 8 Tablet, 8 HD Display, Wi-Fi,...  Amazon   \n",
       "1      1   1  All-New Fire HD 8 Tablet, 8 HD Display, Wi-Fi,...  Amazon   \n",
       "2      2   1  All-New Fire HD 8 Tablet, 8 HD Display, Wi-Fi,...  Amazon   \n",
       "3      3   1  All-New Fire HD 8 Tablet, 8 HD Display, Wi-Fi,...  Amazon   \n",
       "4      4   1  All-New Fire HD 8 Tablet, 8 HD Display, Wi-Fi,...  Amazon   \n",
       "\n",
       "                                          categories manufacturer  rating  \\\n",
       "0  Electronics,iPad & Tablets,All Tablets,Fire Ta...       Amazon     5.0   \n",
       "1  Electronics,iPad & Tablets,All Tablets,Fire Ta...       Amazon     5.0   \n",
       "2  Electronics,iPad & Tablets,All Tablets,Fire Ta...       Amazon     5.0   \n",
       "3  Electronics,iPad & Tablets,All Tablets,Fire Ta...       Amazon     4.0   \n",
       "4  Electronics,iPad & Tablets,All Tablets,Fire Ta...       Amazon     5.0   \n",
       "\n",
       "                                                text   username  age  \n",
       "0  This product so far has not disappointed. My c...    Adapter   52  \n",
       "1  great for beginner or experienced person. Boug...     truman   51  \n",
       "2  Inexpensive tablet for him to use and learn on...      DaveZ   23  \n",
       "3  I've had my Fire HD 8 two weeks now and I love...     Shacks   25  \n",
       "4  I bought this for my grand daughter when she c...  explore42   34  "
      ]
     },
     "execution_count": 2,
     "metadata": {},
     "output_type": "execute_result"
    }
   ],
   "source": [
    "# read in the data\n",
    "result = pd.read_csv(\"cleaned_result.csv\")\n",
    "result.head(5)"
   ]
  },
  {
   "cell_type": "code",
   "execution_count": 3,
   "metadata": {
    "pycharm": {
     "is_executing": false
    }
   },
   "outputs": [],
   "source": [
    "class Neo4jConnection:\n",
    "    \n",
    "    def __init__(self, uri, user, pwd):\n",
    "        self.__uri = uri\n",
    "        self.__user = user\n",
    "        self.__pwd = pwd\n",
    "        self.__driver = None\n",
    "        try:\n",
    "            self.__driver = GraphDatabase.driver(self.__uri, auth=(self.__user, self.__pwd))\n",
    "        except Exception as e:\n",
    "            print(\"Failed to create the driver:\", e)\n",
    "        \n",
    "    def close(self):\n",
    "        if self.__driver is not None:\n",
    "            self.__driver.close()\n",
    "        \n",
    "    def query(self, query, parameters=None, db=None):\n",
    "        assert self.__driver is not None, \"Driver not initialized!\"\n",
    "        session = None\n",
    "        response = None\n",
    "        try: \n",
    "            session = self.__driver.session(database=db) if db is not None else self.__driver.session() \n",
    "            response = list(session.run(query, parameters))\n",
    "        except Exception as e:\n",
    "            print(\"Query failed:\", e)\n",
    "        finally: \n",
    "            if session is not None:\n",
    "                session.close()\n",
    "        return response"
   ]
  },
  {
   "cell_type": "code",
   "execution_count": 4,
   "metadata": {
    "pycharm": {
     "is_executing": false
    }
   },
   "outputs": [],
   "source": [
    "# make connection to the database\n",
    "conn = Neo4jConnection(uri = \"neo4j://localhost:7687\",\n",
    "                       user = \"neo4j\",              \n",
    "                       pwd = \"Hjm123456\")"
   ]
  },
  {
   "cell_type": "code",
   "execution_count": 5,
   "metadata": {
    "pycharm": {
     "is_executing": false
    }
   },
   "outputs": [],
   "source": [
    "#clear database\n",
    "def clear(conn):\n",
    "    conn.query('match(n) detach delete n')"
   ]
  },
  {
   "cell_type": "code",
   "execution_count": 6,
   "metadata": {
    "pycharm": {
     "is_executing": false
    }
   },
   "outputs": [],
   "source": [
    "# Adds user nodes\n",
    "def add_users():\n",
    "    user_df = pd.read_csv(\"user.csv\")\n",
    "    \n",
    "    query = '''\n",
    "    UNWIND $rows AS row\n",
    "    MERGE (u:User {username: row.username, age: row.age})\n",
    "    '''\n",
    "    return conn.query(query, parameters = {'rows': user_df.to_dict('records')})    "
   ]
  },
  {
   "cell_type": "code",
   "execution_count": 7,
   "metadata": {
    "pycharm": {
     "is_executing": false
    }
   },
   "outputs": [],
   "source": [
    "# Adds product nodes and the relation: user reviews product to the Neo4j graph.\n",
    "def add_products():\n",
    "    product_df = pd.read_csv(\"product.csv\")\n",
    "    \n",
    "    query = '''\n",
    "    UNWIND $rows AS row\n",
    "    MERGE (p:Product {id: row.id, name: row.name, brand:row.brand, manufacturer:row.manufacturer})\n",
    "    '''\n",
    "    return conn.query(query, parameters = {'rows': product_df.to_dict('records')})"
   ]
  },
  {
   "cell_type": "code",
   "execution_count": 8,
   "metadata": {
    "pycharm": {
     "is_executing": false
    }
   },
   "outputs": [],
   "source": [
    "# Add relation between user and product: user reviews product.\n",
    "def add_user_product_relation(dataframe):\n",
    "    \n",
    "    query = '''\n",
    "    UNWIND $rows as row\n",
    "    MATCH (u: User {username: row.username})\n",
    "    MATCH (p:Product {id: row.id})\n",
    "    MERGE (u)-[:Reviews {id:row.index, rating:row.rating, text:row.text}]->(p)\n",
    "    '''\n",
    "    return conn.query(query, parameters = {'rows': dataframe.to_dict('records')})"
   ]
  },
  {
   "cell_type": "code",
   "execution_count": 9,
   "metadata": {
    "pycharm": {
     "is_executing": false
    }
   },
   "outputs": [],
   "source": [
    "# Adds category nodes to the Neo4j graph.\n",
    "def add_categories():\n",
    "    \n",
    "    buffer_category_lists = []\n",
    "    unique_category = []\n",
    "    \n",
    "    category_lists = list(result[\"categories\"])\n",
    "        \n",
    "    buffer_category_lists = [string.split(\",\") for string in category_lists]\n",
    "    for i in buffer_category_lists:\n",
    "        for j in i:\n",
    "            unique_category.append(j)\n",
    "    \n",
    "    # get unique category list\n",
    "    unique_category = list(set(unique_category))\n",
    "    \n",
    "    for category in unique_category:\n",
    "        c = '\"' + category +'\"'\n",
    "        query = ''' \n",
    "        create(c:Category {category: \n",
    "        ''' + c + '''})'''\n",
    "        conn.query(query)"
   ]
  },
  {
   "cell_type": "code",
   "execution_count": 10,
   "metadata": {
    "pycharm": {
     "is_executing": false
    }
   },
   "outputs": [],
   "source": [
    "# Add the relationship between the product and category\n",
    "def add_product_categories_relation(dataframe):\n",
    "    for index,row in dataframe.iterrows():\n",
    "        categories = list(row[4].split(\",\"))\n",
    "        product_id = \"% s\" % row[1]\n",
    "        for c in categories:\n",
    "            c = '\"'+c+'\"'\n",
    "            query = '''\n",
    "            MATCH (p:Product {id: '''+ product_id+'''})\n",
    "            MATCH (c:Category {category:''' + c + '''})\n",
    "            MERGE (p)-[:IN]->(c)\n",
    "           '''\n",
    "            conn.query(query)"
   ]
  },
  {
   "cell_type": "code",
   "execution_count": 11,
   "metadata": {
    "pycharm": {
     "is_executing": false
    }
   },
   "outputs": [
    {
     "name": "stdout",
     "output_type": "stream",
     "text": [
      "product finished\n",
      "category finished\n",
      "user finished\n",
      "review finished\n",
      "in_category relation finished\n"
     ]
    }
   ],
   "source": [
    "#construct graph\n",
    "clear(conn)\n",
    "# set constrain to nodes so that they won't repeatly added \n",
    "conn.query('CREATE CONSTRAINT User IF NOT EXISTS ON (u:User) ASSERT u.username IS UNIQUE')\n",
    "conn.query('CREATE CONSTRAINT Product IF NOT EXISTS ON (p:Product) ASSERT p.id IS UNIQUE')\n",
    "conn.query('CREATE CONSTRAINT Category IF NOT EXISTS ON (c:Category) ASSERT c.category IS UNIQUE')\n",
    "\n",
    "add_products()\n",
    "print('product finished')\n",
    "add_categories()\n",
    "print('category finished')\n",
    "add_users()\n",
    "print('user finished')\n",
    "add_user_product_relation(result)\n",
    "print('review finished')\n",
    "add_product_categories_relation(result)\n",
    "print('in_category relation finished')"
   ]
  },
  {
   "cell_type": "code",
   "execution_count": 19,
   "metadata": {
    "pycharm": {
     "is_executing": false
    }
   },
   "outputs": [],
   "source": [
    "#build content-based filtering query\n",
    "def cbf_query(username):\n",
    "    username = '\"' + username+ '\"'\n",
    "    query_string = '''MATCH(u:User{username:'''+ username +'''})-[:Reviews]->(p:Product)-[:IN]->(c:Category)<-[:IN]-(p2:Product)\n",
    "WHERE NOT EXISTS ((u)-[:Reviews]->(p2))\n",
    "WITH p, p2, COUNT(distinct c) AS intersection\n",
    "MATCH (p)-[:IN]->(pc:Category)\n",
    "WITH p, p2, intersection, COLLECT(pc.category) AS s1\n",
    "MATCH (p2)-[:IN]->(p2c:Category)\n",
    "WITH p, p2, s1, intersection, COLLECT(p2c.category) AS s2\n",
    "WITH p, p2, intersection, s1+[x IN s2 WHERE NOT x IN s1] AS unionSet, s1, s2\n",
    "RETURN p.id as Userproduct, p2.id as Recommendate, \n",
    "s1 as UserProductCategory, s2 as RecommendateProductCategory,\n",
    "((1.0*intersection)/SIZE(unionSet)) AS jaccard ORDER BY jaccard DESC\n",
    "limit 10'''\n",
    "    \n",
    "    recommand_list = conn.query(query_string)\n",
    "    \n",
    "    return recommand_list"
   ]
  },
  {
   "cell_type": "code",
   "execution_count": 20,
   "metadata": {},
   "outputs": [
    {
     "name": "stdout",
     "output_type": "stream",
     "text": [
      "[<Record Userproduct=72 Recommendate=79 UserProductCategory=['Computers & Tablets', 'Amazon Tablets', 'All Tablets', 'Tablets', 'Fire Tablets'] RecommendateProductCategory=['Computers & Tablets', 'Amazon Tablets', 'All Tablets', 'Tablets', 'Fire Tablets'] jaccard=1.0>, <Record Userproduct=83 Recommendate=87 UserProductCategory=['E-Readers', 'Kindle E-readers', 'Amazon Ereaders', 'Computers & Tablets', 'Amazon Book Reader', 'EBook Readers', 'E-Readers & Accessories'] RecommendateProductCategory=['E-Readers', 'Kindle E-readers', 'Amazon Ereaders', 'Computers & Tablets', 'Amazon Book Reader', 'EBook Readers', 'E-Readers & Accessories'] jaccard=1.0>, <Record Userproduct=18 Recommendate=79 UserProductCategory=['Amazon Tablets', 'All Tablets', 'Computers & Tablets', 'Fire Tablets', 'Tablets'] RecommendateProductCategory=['Computers & Tablets', 'Amazon Tablets', 'All Tablets', 'Tablets', 'Fire Tablets'] jaccard=1.0>, <Record Userproduct=6 Recommendate=79 UserProductCategory=['Amazon Tablets', 'All Tablets', 'Computers & Tablets', 'Fire Tablets', 'Tablets'] RecommendateProductCategory=['Computers & Tablets', 'Amazon Tablets', 'All Tablets', 'Tablets', 'Fire Tablets'] jaccard=1.0>, <Record Userproduct=73 Recommendate=80 UserProductCategory=['Tablets & E-Readers', 'Tablets & eBook Readers', 'Amazon', 'Electronics', 'Computers & Tablets', 'Amazon Tablets', 'All Tablets', 'Tablets', 'Computers/Tablets & Networking', 'Fire Tablets'] RecommendateProductCategory=['Tablets & eBook Readers', 'Amazon', 'Electronics', 'Computers & Tablets', 'Amazon Tablets', 'All Tablets', 'Tablets', 'Computers/Tablets & Networking', 'Fire Tablets'] jaccard=0.9>, <Record Userproduct=2 Recommendate=12 UserProductCategory=['Amazon Ereaders', 'Amazon Book Reader', 'E-Readers', 'E-Readers & Accessories', 'Computers & Tablets', 'Kindle E-readers', 'eBook Readers'] RecommendateProductCategory=['Amazon Ereaders', 'Amazon Book Reader', 'Kindle E-readers', 'eBook Readers', 'E-Readers & Accessories', 'Computers & Tablets'] jaccard=0.8571428571428571>, <Record Userproduct=73 Recommendate=70 UserProductCategory=['Tablets & E-Readers', 'Tablets & eBook Readers', 'Amazon', 'Electronics', 'Computers & Tablets', 'Amazon Tablets', 'All Tablets', 'Tablets', 'Computers/Tablets & Networking', 'Fire Tablets'] RecommendateProductCategory=['Tablets & E-Readers', 'Tablets & eBook Readers', 'Amazon', 'iPad & Tablets', 'Computers & Tablets', 'Electronics', 'Amazon Tablets', 'All Tablets', 'Tablets', 'Android Tablets', 'Computers/Tablets & Networking', 'Fire Tablets'] jaccard=0.8333333333333334>, <Record Userproduct=72 Recommendate=71 UserProductCategory=['Computers & Tablets', 'Amazon Tablets', 'All Tablets', 'Tablets', 'Fire Tablets'] RecommendateProductCategory=['Amazon Tablets', 'All Tablets', 'Tablets', 'Fire Tablets'] jaccard=0.8>, <Record Userproduct=18 Recommendate=71 UserProductCategory=['Amazon Tablets', 'All Tablets', 'Computers & Tablets', 'Fire Tablets', 'Tablets'] RecommendateProductCategory=['Amazon Tablets', 'All Tablets', 'Tablets', 'Fire Tablets'] jaccard=0.8>, <Record Userproduct=6 Recommendate=71 UserProductCategory=['Amazon Tablets', 'All Tablets', 'Computers & Tablets', 'Fire Tablets', 'Tablets'] RecommendateProductCategory=['Amazon Tablets', 'All Tablets', 'Tablets', 'Fire Tablets'] jaccard=0.8>]\n"
     ]
    }
   ],
   "source": [
    "print(cbf_query('John'))"
   ]
  },
  {
   "cell_type": "markdown",
   "metadata": {},
   "source": [
    "## Collaborative Filtering By Customer's Review"
   ]
  },
  {
   "cell_type": "code",
   "execution_count": 21,
   "metadata": {},
   "outputs": [],
   "source": [
    "# Input a user name and return at most 25 products that score the highest based on the products the input user buy.\n",
    "def getRecommandProductsForUser(user_name):\n",
    "    recommand_list = conn.query('''match (u1:User{username:\\\"'''+ user_name +'''\\\"})-[r1:Reviews]->(p1:Product)<-[r2:Reviews]-(u2:User)-[r3:Reviews]->(p2:Product) return p2.name, collect(distinct p1.id) as product_id, id(u2) as partner_id, (count(r1) + count(r2) + count(r3)) / 3  as score order by score desc limit 25''')\n",
    "    \n",
    "    return [x[0] for x in recommand_list]"
   ]
  },
  {
   "cell_type": "code",
   "execution_count": 22,
   "metadata": {},
   "outputs": [
    {
     "name": "stdout",
     "output_type": "stream",
     "text": [
      "['Fire Tablet, 7 Display, Wi-Fi, 8 GB - Includes Special Offers, Magenta', 'Echo (White),,,\\r\\nEcho (White),,,', 'Fire Tablet, 7 Display, Wi-Fi, 8 GB - Includes Special Offers, Black', 'Brand New Amazon Kindle Fire 16gb 7 Ips Display Tablet Wifi 16 Gb Blue,,,', 'All-New Fire HD 8 Tablet, 8 HD Display, Wi-Fi, 16 GB - Includes Special Offers, Magenta', 'Echo (White),,,\\r\\nEcho (White),,,', 'Fire Tablet, 7 Display, Wi-Fi, 8 GB - Includes Special Offers, Magenta', 'Fire Tablet, 7 Display, Wi-Fi, 8 GB - Includes Special Offers, Magenta', 'Kindle Voyage E-reader, 6 High-Resolution Display (300 ppi) with Adaptive Built-in Light, PagePress Sensors, Wi-Fi - Includes Special Offers,', 'Fire Tablet, 7 Display, Wi-Fi, 8 GB - Includes Special Offers, Magenta', 'Echo (White),,,\\r\\nEcho (White),,,', 'Echo (White),,,\\r\\nEcho (White),,,', 'Amazon Kindle Paperwhite - eBook reader - 4 GB - 6 monochrome Paperwhite - touchscreen - Wi-Fi - black,,,', 'Fire Tablet, 7 Display, Wi-Fi, 8 GB - Includes Special Offers, Black', 'Brand New Amazon Kindle Fire 16gb 7 Ips Display Tablet Wifi 16 Gb Blue,,,', 'Fire Kids Edition Tablet, 7 Display, Wi-Fi, 16 GB, Green Kid-Proof Case', 'Amazon Tap Smart Assistant Alexaenabled (black) Brand New', 'All-New Fire HD 8 Tablet, 8 HD Display, Wi-Fi, 16 GB - Includes Special Offers, Magenta', 'Amazon Kindle Paperwhite - eBook reader - 4 GB - 6 monochrome Paperwhite - touchscreen - Wi-Fi - black,,,', 'Brand New Amazon Kindle Fire 16gb 7 Ips Display Tablet Wifi 16 Gb Blue,,,', 'Fire Kids Edition Tablet, 7 Display, Wi-Fi, 16 GB, Pink Kid-Proof Case', 'Brand New Amazon Kindle Fire 16gb 7 Ips Display Tablet Wifi 16 Gb Blue,,,', 'Fire Tablet, 7 Display, Wi-Fi, 8 GB - Includes Special Offers, Magenta', 'Echo (White),,,\\r\\nEcho (White),,,', 'Amazon - Echo Plus w/ Built-In Hub - Silver']\n"
     ]
    }
   ],
   "source": [
    "print(getRecommandProductsForUser(\"Kacy\"))"
   ]
  },
  {
   "cell_type": "markdown",
   "metadata": {},
   "source": [
    "## Collaborative Filtering By Age"
   ]
  },
  {
   "cell_type": "code",
   "execution_count": 23,
   "metadata": {},
   "outputs": [],
   "source": [
    "# giiven a username, and the age difference, return the recommend product list\n",
    "def collaborative_filtering_by_age(username, difference):\n",
    "    query_for_age = '''MATCH (u: User {username:\\\"'''+ username +'''\\\"})\n",
    "                       RETURN u.age\n",
    "                    '''\n",
    "    # get the age of this user\n",
    "    age = conn.query(query_for_age)[0][0]\n",
    "    lower_bound_age = age - difference\n",
    "    upper_bound_age = age + difference\n",
    "    name_string = \"\\\"\" + username +\"\\\"\"\n",
    "    \n",
    "    query_for_products_string_list = [\"MATCH (u: User)-[:Reviews]->(p:Product)\\n\", \n",
    "                                      \"WHERE u.username <>\", name_string, \"\\n\",\n",
    "                                      \"AND u.age > \", str(lower_bound_age), \"\\n\",\n",
    "                                      \"AND u.age < \", str(upper_bound_age), \"\\n\",\n",
    "                                      \"RETURN DISTINCT p\"]\n",
    "    \n",
    "    query_for_products = \"\".join(query_for_products_string_list)\n",
    "    \n",
    "    recommend_list = conn.query(query_for_products)\n",
    "    \n",
    "    return [x[0] for x in recommend_list]"
   ]
  },
  {
   "cell_type": "code",
   "execution_count": 24,
   "metadata": {},
   "outputs": [
    {
     "data": {
      "text/plain": [
       "[<Node id=45708 labels=frozenset({'Product'}) properties={'name': 'Brand New Amazon Kindle Fire 16gb 7 Ips Display Tablet Wifi 16 Gb Blue,,,', 'id': 13, 'brand': 'Amazon', 'manufacturer': 'Amazon'}>,\n",
       " <Node id=45696 labels=frozenset({'Product'}) properties={'name': 'All-New Fire HD 8 Tablet, 8 HD Display, Wi-Fi, 16 GB - Includes Special Offers, Magenta', 'id': 1, 'brand': 'Amazon', 'manufacturer': 'Amazon'}>,\n",
       " <Node id=45721 labels=frozenset({'Product'}) properties={'name': 'Fire Tablet, 7 Display, Wi-Fi, 8 GB - Includes Special Offers, Black', 'id': 26, 'brand': 'Amazon', 'manufacturer': 'Amazon'}>,\n",
       " <Node id=45744 labels=frozenset({'Product'}) properties={'name': 'Amazon Tap Smart Assistant Alexaenabled (black) Brand New', 'id': 37, 'brand': 'Amazon', 'manufacturer': 'Amazon'}>,\n",
       " <Node id=45725 labels=frozenset({'Product'}) properties={'name': 'Echo (White),,,\\r\\nEcho (White),,,', 'id': 30, 'brand': 'Amazon', 'manufacturer': 'Amazon'}>,\n",
       " <Node id=45705 labels=frozenset({'Product'}) properties={'name': 'Fire Tablet, 7 Display, Wi-Fi, 8 GB - Includes Special Offers, Magenta', 'id': 10, 'brand': 'Amazon', 'manufacturer': 'Amazon'}>,\n",
       " <Node id=45778 labels=frozenset({'Product'}) properties={'name': 'Amazon - Echo Plus w/ Built-In Hub - Silver', 'id': 92, 'brand': 'Amazon', 'manufacturer': 'Amazon'}>,\n",
       " <Node id=45714 labels=frozenset({'Product'}) properties={'name': 'Amazon Kindle Paperwhite - eBook reader - 4 GB - 6 monochrome Paperwhite - touchscreen - Wi-Fi - black,,,', 'id': 19, 'brand': 'Amazon', 'manufacturer': 'Amazon'}>,\n",
       " <Node id=45756 labels=frozenset({'Product'}) properties={'name': 'All-New Fire HD 8 Tablet, 8 HD Display, Wi-Fi, 16 GB - Includes Special Offers, Blue', 'id': 71, 'brand': 'Amazon', 'manufacturer': 'Amazon'}>,\n",
       " <Node id=45776 labels=frozenset({'Product'}) properties={'name': 'Amazon Echo Show Alexa-enabled Bluetooth Speaker with 7\" Screen', 'id': 90, 'brand': 'Amazon', 'manufacturer': 'Amazon'}>,\n",
       " <Node id=45766 labels=frozenset({'Product'}) properties={'name': 'All-New Fire HD 8 Tablet with Alexa, 8 HD Display, 32 GB, Marine Blue - with Special Offers', 'id': 80, 'brand': 'Amazon', 'manufacturer': 'Amazon'}>,\n",
       " <Node id=45713 labels=frozenset({'Product'}) properties={'name': 'Fire Kids Edition Tablet, 7 Display, Wi-Fi, 16 GB, Green Kid-Proof Case', 'id': 18, 'brand': 'Amazon', 'manufacturer': 'Amazon'}>,\n",
       " <Node id=45753 labels=frozenset({'Product'}) properties={'name': 'Fire Kids Edition Tablet, 7 Display, Wi-Fi, 16 GB, Pink Kid-Proof Case', 'id': 68, 'brand': 'Amazon', 'manufacturer': 'Amazon'}>,\n",
       " <Node id=45763 labels=frozenset({'Product'}) properties={'name': 'All-New Fire HD 8 Kids Edition Tablet, 8 HD Display, 32 GB, Pink Kid-Proof Case', 'id': 77, 'brand': 'Amazon', 'manufacturer': 'Amazon'}>,\n",
       " <Node id=45765 labels=frozenset({'Product'}) properties={'name': 'All-New Fire HD 8 Tablet with Alexa, 8 HD Display, 16 GB, Marine Blue - with Special Offers', 'id': 79, 'brand': 'Amazon', 'manufacturer': 'Amazon'}>,\n",
       " <Node id=45764 labels=frozenset({'Product'}) properties={'name': 'All-New Fire HD 8 Kids Edition Tablet, 8 HD Display, 32 GB, Blue Kid-Proof Case', 'id': 78, 'brand': 'Amazon', 'manufacturer': 'Amazon'}>,\n",
       " <Node id=45718 labels=frozenset({'Product'}) properties={'name': 'Fire Tablet, 7 Display, Wi-Fi, 8 GB - Includes Special Offers, Black', 'id': 23, 'brand': 'Amazon', 'manufacturer': 'Amazon'}>,\n",
       " <Node id=45711 labels=frozenset({'Product'}) properties={'name': 'Brand New Amazon Kindle Fire 16gb 7 Ips Display Tablet Wifi 16 Gb Blue,,,', 'id': 16, 'brand': 'Amazon', 'manufacturer': 'Amazon'}>,\n",
       " <Node id=45723 labels=frozenset({'Product'}) properties={'name': 'Echo (White),,,\\r\\nEcho (White),,,', 'id': 28, 'brand': 'Amazon', 'manufacturer': 'Amazon'}>,\n",
       " <Node id=45719 labels=frozenset({'Product'}) properties={'name': 'Fire Tablet, 7 Display, Wi-Fi, 8 GB - Includes Special Offers, Black', 'id': 24, 'brand': 'Amazon', 'manufacturer': 'Amazon'}>,\n",
       " <Node id=45767 labels=frozenset({'Product'}) properties={'name': 'Fire Tablet with Alexa, 7 Display, 16 GB, Magenta - with Special Offers', 'id': 81, 'brand': 'Amazon', 'manufacturer': 'Amazon'}>,\n",
       " <Node id=45697 labels=frozenset({'Product'}) properties={'name': 'Kindle Oasis E-reader with Leather Charging Cover - Merlot, 6 High-Resolution Display (300 ppi), Wi-Fi - Includes Special Offers,,', 'id': 2, 'brand': 'Amazon', 'manufacturer': 'Amazon'}>,\n",
       " <Node id=45769 labels=frozenset({'Product'}) properties={'name': 'Kindle Oasis E-reader with Leather Charging Cover - Walnut, 6 High-Resolution Display (300 ppi), Wi-Fi - Includes Special Offers', 'id': 83, 'brand': 'Amazon', 'manufacturer': 'Amazon'}>,\n",
       " <Node id=45706 labels=frozenset({'Product'}) properties={'name': 'Brand New Amazon Kindle Fire 16gb 7 Ips Display Tablet Wifi 16 Gb Blue,,,', 'id': 11, 'brand': 'Amazon', 'manufacturer': 'Amazon'}>,\n",
       " <Node id=45702 labels=frozenset({'Product'}) properties={'name': 'Amazon 5W USB Official OEM Charger and Power Adapter for Fire Tablets and Kindle eReaders,,,\\r\\nAmazon 5W USB Official OEM Charger and Power Adapter for Fire Tablets and Kindle eReaders,,,', 'id': 7, 'brand': 'Amazon', 'manufacturer': 'Amazon'}>,\n",
       " <Node id=45771 labels=frozenset({'Product'}) properties={'name': 'Kindle E-reader - White, 6 Glare-Free Touchscreen Display, Wi-Fi - Includes Special Offers', 'id': 85, 'brand': 'Amazon', 'manufacturer': 'Amazon'}>,\n",
       " <Node id=45715 labels=frozenset({'Product'}) properties={'name': 'Kindle Voyage E-reader, 6 High-Resolution Display (300 ppi) with Adaptive Built-in Light, PagePress Sensors, Wi-Fi - Includes Special Offers,', 'id': 20, 'brand': 'Amazon', 'manufacturer': 'Amazon'}>,\n",
       " <Node id=45703 labels=frozenset({'Product'}) properties={'name': 'Amazon Kindle Fire Hd (3rd Generation) 8gb,,,\\r\\nAmazon Kindle Fire Hd (3rd Generation) 8gb,,,', 'id': 8, 'brand': 'Amazon', 'manufacturer': 'Amazon'}>,\n",
       " <Node id=45704 labels=frozenset({'Product'}) properties={'name': 'Fire Tablet, 7 Display, Wi-Fi, 8 GB - Includes Special Offers, Magenta', 'id': 9, 'brand': 'Amazon', 'manufacturer': 'Amazon'}>,\n",
       " <Node id=45724 labels=frozenset({'Product'}) properties={'name': 'Echo (White),,,\\r\\nEcho (White),,,', 'id': 29, 'brand': 'Amazon', 'manufacturer': 'Amazon'}>,\n",
       " <Node id=45755 labels=frozenset({'Product'}) properties={'name': 'All-New Fire 7 Tablet with Alexa, 7\" Display, 8 GB - Marine Blue', 'id': 70, 'brand': 'Amazon', 'manufacturer': 'Amazon'}>,\n",
       " <Node id=45707 labels=frozenset({'Product'}) properties={'name': 'Brand New Amazon Kindle Fire 16gb 7 Ips Display Tablet Wifi 16 Gb Blue,,,', 'id': 12, 'brand': 'Amazon', 'manufacturer': 'Amazon'}>,\n",
       " <Node id=45720 labels=frozenset({'Product'}) properties={'name': 'Fire Tablet, 7 Display, Wi-Fi, 8 GB - Includes Special Offers, Black', 'id': 25, 'brand': 'Amazon', 'manufacturer': 'Amazon'}>,\n",
       " <Node id=45722 labels=frozenset({'Product'}) properties={'name': 'Echo (White),,,\\r\\nEcho (White),,,', 'id': 27, 'brand': 'Amazon', 'manufacturer': 'Amazon'}>,\n",
       " <Node id=45759 labels=frozenset({'Product'}) properties={'name': 'Amazon Fire HD 8 with Alexa (8\" HD Display Tablet)', 'id': 73, 'brand': 'Amazon', 'manufacturer': 'Amazon'}>,\n",
       " <Node id=45728 labels=frozenset({'Product'}) properties={'name': 'Amazon Echo Show - Black', 'id': 45, 'brand': 'Amazon', 'manufacturer': 'Amazon'}>,\n",
       " <Node id=45726 labels=frozenset({'Product'}) properties={'name': 'AmazonBasics AAA Performance Alkaline Batteries (36 Count)', 'id': 43, 'brand': 'Amazonbasics', 'manufacturer': 'AmazonBasics'}>,\n",
       " <Node id=45731 labels=frozenset({'Product'}) properties={'name': 'AmazonBasics AA Performance Alkaline Batteries (48 Count) - Packaging May Vary', 'id': 48, 'brand': 'Amazonbasics', 'manufacturer': 'AmazonBasics'}>,\n",
       " <Node id=45737 labels=frozenset({'Product'}) properties={'name': 'Expanding Accordion File Folder Plastic Portable Document Organizer Letter Size', 'id': 54, 'brand': 'Amazonbasics', 'manufacturer': 'AmazonBasics'}>,\n",
       " <Node id=45758 labels=frozenset({'Product'}) properties={'name': 'Fire HD 10 Tablet, 10.1 HD Display, Wi-Fi, 16 GB - Includes Special Offers, Silver Aluminum', 'id': 36, 'brand': 'Amazon', 'manufacturer': 'Amazon'}>,\n",
       " <Node id=45770 labels=frozenset({'Product'}) properties={'name': 'All-New Kindle Oasis E-reader - 7 High-Resolution Display (300 ppi), Waterproof, Built-In Audible, 8 GB, Wi-Fi - Includes Special Offers', 'id': 84, 'brand': 'Amazon', 'manufacturer': 'Amazon'}>]"
      ]
     },
     "execution_count": 24,
     "metadata": {},
     "output_type": "execute_result"
    }
   ],
   "source": [
    "# get the products that bought by users around Kacy's age (± 1)\n",
    "collaborative_filtering_by_age(\"Kacy\", 1)"
   ]
  },
  {
   "cell_type": "code",
   "execution_count": null,
   "metadata": {
    "pycharm": {
     "is_executing": false
    }
   },
   "outputs": [],
   "source": [
    "# close connection\n",
    "conn.close()"
   ]
  }
 ],
 "metadata": {
  "kernelspec": {
   "display_name": "Python 3",
   "language": "python",
   "name": "python3"
  },
  "language_info": {
   "codemirror_mode": {
    "name": "ipython",
    "version": 3
   },
   "file_extension": ".py",
   "mimetype": "text/x-python",
   "name": "python",
   "nbconvert_exporter": "python",
   "pygments_lexer": "ipython3",
   "version": "3.7.4"
  }
 },
 "nbformat": 4,
 "nbformat_minor": 2
}
