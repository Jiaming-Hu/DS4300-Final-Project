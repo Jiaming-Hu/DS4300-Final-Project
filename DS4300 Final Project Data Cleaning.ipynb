{
 "cells": [
  {
   "cell_type": "code",
   "execution_count": 6,
   "metadata": {
    "pycharm": {
     "is_executing": false
    }
   },
   "outputs": [],
   "source": [
    "import random\n",
    "import pandas as pd\n"
   ]
  },
  {
   "cell_type": "code",
   "execution_count": 7,
   "metadata": {
    "pycharm": {
     "is_executing": false
    }
   },
   "outputs": [],
   "source": [
    "df_1 = pd.read_csv(\"data_1.csv\", low_memory = False)\n",
    "df_2 = pd.read_csv(\"data_2.csv\", low_memory = False)\n",
    "df_3 = pd.read_csv(\"data_3.csv\", low_memory = False)"
   ]
  },
  {
   "cell_type": "code",
   "execution_count": 8,
   "metadata": {
    "pycharm": {
     "is_executing": false
    }
   },
   "outputs": [],
   "source": [
    "dropped_column_name_1 = ['keys', 'reviews.date', 'reviews.dateAdded', 'reviews.dateSeen',\n",
    "                         'reviews.didPurchase', 'reviews.doRecommend', 'reviews.id',\n",
    "                         'reviews.numHelpful','reviews.sourceURLs', 'reviews.title', \n",
    "                         'reviews.userCity', 'reviews.userProvince','asins']\n",
    "dropped_column_name_2 = ['dateAdded', 'dateUpdated', 'primaryCategories', 'imageURLs', 'keys', \n",
    "                         'manufacturerNumber', 'reviews.date', 'reviews.dateSeen', 'reviews.didPurchase',\n",
    "                         'reviews.doRecommend', 'reviews.numHelpful', 'reviews.sourceURLs', 'reviews.title',\n",
    "                         'sourceURLs', 'reviews.id','asins']\n",
    "dropped_column_name_3 = ['dateAdded', 'dateUpdated', 'primaryCategories', 'imageURLs', 'keys', \n",
    "                         'manufacturerNumber', 'reviews.date', 'reviews.dateAdded','reviews.dateSeen', \n",
    "                         'reviews.doRecommend', 'reviews.numHelpful', 'reviews.sourceURLs', 'reviews.title',\n",
    "                         'sourceURLs', 'reviews.id','asins']"
   ]
  },
  {
   "cell_type": "code",
   "execution_count": 9,
   "metadata": {
    "pycharm": {
     "is_executing": false
    }
   },
   "outputs": [],
   "source": [
    "order_of_column = ['id', 'name',  'brand', 'categories', 'manufacturer', 'reviews.rating', 'reviews.text', 'reviews.username']"
   ]
  },
  {
   "cell_type": "code",
   "execution_count": 10,
   "metadata": {
    "pycharm": {
     "is_executing": false
    }
   },
   "outputs": [],
   "source": [
    "df_1 = df_1.drop(columns = dropped_column_name_1)[order_of_column]\n",
    "df_2 = df_2.drop(columns = dropped_column_name_2)[order_of_column]\n",
    "df_3 = df_3.drop(columns = dropped_column_name_3)[order_of_column]"
   ]
  },
  {
   "cell_type": "code",
   "execution_count": 11,
   "metadata": {
    "pycharm": {
     "is_executing": false
    }
   },
   "outputs": [
    {
     "data": {
      "text/html": "<div>\n<style scoped>\n    .dataframe tbody tr th:only-of-type {\n        vertical-align: middle;\n    }\n\n    .dataframe tbody tr th {\n        vertical-align: top;\n    }\n\n    .dataframe thead th {\n        text-align: right;\n    }\n</style>\n<table border=\"1\" class=\"dataframe\">\n  <thead>\n    <tr style=\"text-align: right;\">\n      <th></th>\n      <th>id</th>\n      <th>name</th>\n      <th>brand</th>\n      <th>categories</th>\n      <th>manufacturer</th>\n      <th>reviews.rating</th>\n      <th>reviews.text</th>\n      <th>reviews.username</th>\n    </tr>\n  </thead>\n  <tbody>\n    <tr>\n      <th>0</th>\n      <td>AVqkIhwDv8e3D1O-lebb</td>\n      <td>All-New Fire HD 8 Tablet, 8 HD Display, Wi-Fi,...</td>\n      <td>Amazon</td>\n      <td>Electronics,iPad &amp; Tablets,All Tablets,Fire Ta...</td>\n      <td>Amazon</td>\n      <td>5.0</td>\n      <td>This product so far has not disappointed. My c...</td>\n      <td>Adapter</td>\n    </tr>\n    <tr>\n      <th>1</th>\n      <td>AVqkIhwDv8e3D1O-lebb</td>\n      <td>All-New Fire HD 8 Tablet, 8 HD Display, Wi-Fi,...</td>\n      <td>Amazon</td>\n      <td>Electronics,iPad &amp; Tablets,All Tablets,Fire Ta...</td>\n      <td>Amazon</td>\n      <td>5.0</td>\n      <td>great for beginner or experienced person. Boug...</td>\n      <td>truman</td>\n    </tr>\n    <tr>\n      <th>2</th>\n      <td>AVqkIhwDv8e3D1O-lebb</td>\n      <td>All-New Fire HD 8 Tablet, 8 HD Display, Wi-Fi,...</td>\n      <td>Amazon</td>\n      <td>Electronics,iPad &amp; Tablets,All Tablets,Fire Ta...</td>\n      <td>Amazon</td>\n      <td>5.0</td>\n      <td>Inexpensive tablet for him to use and learn on...</td>\n      <td>DaveZ</td>\n    </tr>\n    <tr>\n      <th>3</th>\n      <td>AVqkIhwDv8e3D1O-lebb</td>\n      <td>All-New Fire HD 8 Tablet, 8 HD Display, Wi-Fi,...</td>\n      <td>Amazon</td>\n      <td>Electronics,iPad &amp; Tablets,All Tablets,Fire Ta...</td>\n      <td>Amazon</td>\n      <td>4.0</td>\n      <td>I've had my Fire HD 8 two weeks now and I love...</td>\n      <td>Shacks</td>\n    </tr>\n    <tr>\n      <th>4</th>\n      <td>AVqkIhwDv8e3D1O-lebb</td>\n      <td>All-New Fire HD 8 Tablet, 8 HD Display, Wi-Fi,...</td>\n      <td>Amazon</td>\n      <td>Electronics,iPad &amp; Tablets,All Tablets,Fire Ta...</td>\n      <td>Amazon</td>\n      <td>5.0</td>\n      <td>I bought this for my grand daughter when she c...</td>\n      <td>explore42</td>\n    </tr>\n  </tbody>\n</table>\n</div>",
      "text/plain": "                     id                                               name  \\\n0  AVqkIhwDv8e3D1O-lebb  All-New Fire HD 8 Tablet, 8 HD Display, Wi-Fi,...   \n1  AVqkIhwDv8e3D1O-lebb  All-New Fire HD 8 Tablet, 8 HD Display, Wi-Fi,...   \n2  AVqkIhwDv8e3D1O-lebb  All-New Fire HD 8 Tablet, 8 HD Display, Wi-Fi,...   \n3  AVqkIhwDv8e3D1O-lebb  All-New Fire HD 8 Tablet, 8 HD Display, Wi-Fi,...   \n4  AVqkIhwDv8e3D1O-lebb  All-New Fire HD 8 Tablet, 8 HD Display, Wi-Fi,...   \n\n    brand                                         categories manufacturer  \\\n0  Amazon  Electronics,iPad & Tablets,All Tablets,Fire Ta...       Amazon   \n1  Amazon  Electronics,iPad & Tablets,All Tablets,Fire Ta...       Amazon   \n2  Amazon  Electronics,iPad & Tablets,All Tablets,Fire Ta...       Amazon   \n3  Amazon  Electronics,iPad & Tablets,All Tablets,Fire Ta...       Amazon   \n4  Amazon  Electronics,iPad & Tablets,All Tablets,Fire Ta...       Amazon   \n\n   reviews.rating                                       reviews.text  \\\n0             5.0  This product so far has not disappointed. My c...   \n1             5.0  great for beginner or experienced person. Boug...   \n2             5.0  Inexpensive tablet for him to use and learn on...   \n3             4.0  I've had my Fire HD 8 two weeks now and I love...   \n4             5.0  I bought this for my grand daughter when she c...   \n\n  reviews.username  \n0          Adapter  \n1           truman  \n2            DaveZ  \n3           Shacks  \n4        explore42  "
     },
     "metadata": {},
     "output_type": "execute_result",
     "execution_count": 11
    }
   ],
   "source": [
    "df_1.head(5)"
   ]
  },
  {
   "cell_type": "code",
   "execution_count": 12,
   "metadata": {
    "pycharm": {
     "is_executing": false
    }
   },
   "outputs": [
    {
     "data": {
      "text/html": "<div>\n<style scoped>\n    .dataframe tbody tr th:only-of-type {\n        vertical-align: middle;\n    }\n\n    .dataframe tbody tr th {\n        vertical-align: top;\n    }\n\n    .dataframe thead th {\n        text-align: right;\n    }\n</style>\n<table border=\"1\" class=\"dataframe\">\n  <thead>\n    <tr style=\"text-align: right;\">\n      <th></th>\n      <th>id</th>\n      <th>name</th>\n      <th>brand</th>\n      <th>categories</th>\n      <th>manufacturer</th>\n      <th>reviews.rating</th>\n      <th>reviews.text</th>\n      <th>reviews.username</th>\n    </tr>\n  </thead>\n  <tbody>\n    <tr>\n      <th>0</th>\n      <td>AVpgNzjwLJeJML43Kpxn</td>\n      <td>AmazonBasics AAA Performance Alkaline Batterie...</td>\n      <td>Amazonbasics</td>\n      <td>AA,AAA,Health,Electronics,Health &amp; Household,C...</td>\n      <td>AmazonBasics</td>\n      <td>3</td>\n      <td>I order 3 of them and one of the item is bad q...</td>\n      <td>Byger yang</td>\n    </tr>\n    <tr>\n      <th>1</th>\n      <td>AVpgNzjwLJeJML43Kpxn</td>\n      <td>AmazonBasics AAA Performance Alkaline Batterie...</td>\n      <td>Amazonbasics</td>\n      <td>AA,AAA,Health,Electronics,Health &amp; Household,C...</td>\n      <td>AmazonBasics</td>\n      <td>4</td>\n      <td>Bulk is always the less expensive way to go fo...</td>\n      <td>ByMG</td>\n    </tr>\n    <tr>\n      <th>2</th>\n      <td>AVpgNzjwLJeJML43Kpxn</td>\n      <td>AmazonBasics AAA Performance Alkaline Batterie...</td>\n      <td>Amazonbasics</td>\n      <td>AA,AAA,Health,Electronics,Health &amp; Household,C...</td>\n      <td>AmazonBasics</td>\n      <td>5</td>\n      <td>Well they are not Duracell but for the price i...</td>\n      <td>BySharon Lambert</td>\n    </tr>\n    <tr>\n      <th>3</th>\n      <td>AVpgNzjwLJeJML43Kpxn</td>\n      <td>AmazonBasics AAA Performance Alkaline Batterie...</td>\n      <td>Amazonbasics</td>\n      <td>AA,AAA,Health,Electronics,Health &amp; Household,C...</td>\n      <td>AmazonBasics</td>\n      <td>5</td>\n      <td>Seem to work as well as name brand batteries a...</td>\n      <td>Bymark sexson</td>\n    </tr>\n    <tr>\n      <th>4</th>\n      <td>AVpgNzjwLJeJML43Kpxn</td>\n      <td>AmazonBasics AAA Performance Alkaline Batterie...</td>\n      <td>Amazonbasics</td>\n      <td>AA,AAA,Health,Electronics,Health &amp; Household,C...</td>\n      <td>AmazonBasics</td>\n      <td>5</td>\n      <td>These batteries are very long lasting the pric...</td>\n      <td>Bylinda</td>\n    </tr>\n  </tbody>\n</table>\n</div>",
      "text/plain": "                     id                                               name  \\\n0  AVpgNzjwLJeJML43Kpxn  AmazonBasics AAA Performance Alkaline Batterie...   \n1  AVpgNzjwLJeJML43Kpxn  AmazonBasics AAA Performance Alkaline Batterie...   \n2  AVpgNzjwLJeJML43Kpxn  AmazonBasics AAA Performance Alkaline Batterie...   \n3  AVpgNzjwLJeJML43Kpxn  AmazonBasics AAA Performance Alkaline Batterie...   \n4  AVpgNzjwLJeJML43Kpxn  AmazonBasics AAA Performance Alkaline Batterie...   \n\n          brand                                         categories  \\\n0  Amazonbasics  AA,AAA,Health,Electronics,Health & Household,C...   \n1  Amazonbasics  AA,AAA,Health,Electronics,Health & Household,C...   \n2  Amazonbasics  AA,AAA,Health,Electronics,Health & Household,C...   \n3  Amazonbasics  AA,AAA,Health,Electronics,Health & Household,C...   \n4  Amazonbasics  AA,AAA,Health,Electronics,Health & Household,C...   \n\n   manufacturer  reviews.rating  \\\n0  AmazonBasics               3   \n1  AmazonBasics               4   \n2  AmazonBasics               5   \n3  AmazonBasics               5   \n4  AmazonBasics               5   \n\n                                        reviews.text  reviews.username  \n0  I order 3 of them and one of the item is bad q...        Byger yang  \n1  Bulk is always the less expensive way to go fo...              ByMG  \n2  Well they are not Duracell but for the price i...  BySharon Lambert  \n3  Seem to work as well as name brand batteries a...     Bymark sexson  \n4  These batteries are very long lasting the pric...           Bylinda  "
     },
     "metadata": {},
     "output_type": "execute_result",
     "execution_count": 12
    }
   ],
   "source": [
    "df_2.head(5)"
   ]
  },
  {
   "cell_type": "code",
   "execution_count": 13,
   "metadata": {
    "pycharm": {
     "is_executing": false
    }
   },
   "outputs": [
    {
     "data": {
      "text/html": "<div>\n<style scoped>\n    .dataframe tbody tr th:only-of-type {\n        vertical-align: middle;\n    }\n\n    .dataframe tbody tr th {\n        vertical-align: top;\n    }\n\n    .dataframe thead th {\n        text-align: right;\n    }\n</style>\n<table border=\"1\" class=\"dataframe\">\n  <thead>\n    <tr style=\"text-align: right;\">\n      <th></th>\n      <th>id</th>\n      <th>name</th>\n      <th>brand</th>\n      <th>categories</th>\n      <th>manufacturer</th>\n      <th>reviews.rating</th>\n      <th>reviews.text</th>\n      <th>reviews.username</th>\n    </tr>\n  </thead>\n  <tbody>\n    <tr>\n      <th>0</th>\n      <td>AVqVGZNvQMlgsOJE6eUY</td>\n      <td>Amazon Kindle E-Reader 6\" Wifi (8th Generation...</td>\n      <td>Amazon</td>\n      <td>Computers,Electronics Features,Tablets,Electro...</td>\n      <td>Amazon</td>\n      <td>3</td>\n      <td>I thought it would be as big as small paper bu...</td>\n      <td>llyyue</td>\n    </tr>\n    <tr>\n      <th>1</th>\n      <td>AVqVGZNvQMlgsOJE6eUY</td>\n      <td>Amazon Kindle E-Reader 6\" Wifi (8th Generation...</td>\n      <td>Amazon</td>\n      <td>Computers,Electronics Features,Tablets,Electro...</td>\n      <td>Amazon</td>\n      <td>5</td>\n      <td>This kindle is light and easy to use especiall...</td>\n      <td>Charmi</td>\n    </tr>\n    <tr>\n      <th>2</th>\n      <td>AVqVGZNvQMlgsOJE6eUY</td>\n      <td>Amazon Kindle E-Reader 6\" Wifi (8th Generation...</td>\n      <td>Amazon</td>\n      <td>Computers,Electronics Features,Tablets,Electro...</td>\n      <td>Amazon</td>\n      <td>4</td>\n      <td>Didnt know how much i'd use a kindle so went f...</td>\n      <td>johnnyjojojo</td>\n    </tr>\n    <tr>\n      <th>3</th>\n      <td>AVqVGZNvQMlgsOJE6eUY</td>\n      <td>Amazon Kindle E-Reader 6\" Wifi (8th Generation...</td>\n      <td>Amazon</td>\n      <td>Computers,Electronics Features,Tablets,Electro...</td>\n      <td>Amazon</td>\n      <td>5</td>\n      <td>I am 100 happy with my purchase. I caught it o...</td>\n      <td>Kdperry</td>\n    </tr>\n    <tr>\n      <th>4</th>\n      <td>AVqVGZNvQMlgsOJE6eUY</td>\n      <td>Amazon Kindle E-Reader 6\" Wifi (8th Generation...</td>\n      <td>Amazon</td>\n      <td>Computers,Electronics Features,Tablets,Electro...</td>\n      <td>Amazon</td>\n      <td>5</td>\n      <td>Solid entry level Kindle. Great for kids. Gift...</td>\n      <td>Johnnyblack</td>\n    </tr>\n  </tbody>\n</table>\n</div>",
      "text/plain": "                     id                                               name  \\\n0  AVqVGZNvQMlgsOJE6eUY  Amazon Kindle E-Reader 6\" Wifi (8th Generation...   \n1  AVqVGZNvQMlgsOJE6eUY  Amazon Kindle E-Reader 6\" Wifi (8th Generation...   \n2  AVqVGZNvQMlgsOJE6eUY  Amazon Kindle E-Reader 6\" Wifi (8th Generation...   \n3  AVqVGZNvQMlgsOJE6eUY  Amazon Kindle E-Reader 6\" Wifi (8th Generation...   \n4  AVqVGZNvQMlgsOJE6eUY  Amazon Kindle E-Reader 6\" Wifi (8th Generation...   \n\n    brand                                         categories manufacturer  \\\n0  Amazon  Computers,Electronics Features,Tablets,Electro...       Amazon   \n1  Amazon  Computers,Electronics Features,Tablets,Electro...       Amazon   \n2  Amazon  Computers,Electronics Features,Tablets,Electro...       Amazon   \n3  Amazon  Computers,Electronics Features,Tablets,Electro...       Amazon   \n4  Amazon  Computers,Electronics Features,Tablets,Electro...       Amazon   \n\n   reviews.rating                                       reviews.text  \\\n0               3  I thought it would be as big as small paper bu...   \n1               5  This kindle is light and easy to use especiall...   \n2               4  Didnt know how much i'd use a kindle so went f...   \n3               5  I am 100 happy with my purchase. I caught it o...   \n4               5  Solid entry level Kindle. Great for kids. Gift...   \n\n  reviews.username  \n0           llyyue  \n1           Charmi  \n2     johnnyjojojo  \n3          Kdperry  \n4      Johnnyblack  "
     },
     "metadata": {},
     "output_type": "execute_result",
     "execution_count": 13
    }
   ],
   "source": [
    "df_3.head(5)"
   ]
  },
  {
   "cell_type": "code",
   "execution_count": 14,
   "metadata": {
    "pycharm": {
     "is_executing": false
    }
   },
   "outputs": [],
   "source": [
    "result = pd.concat([df_1, df_2, df_3], ignore_index = True)"
   ]
  },
  {
   "cell_type": "code",
   "execution_count": 15,
   "metadata": {
    "pycharm": {
     "is_executing": false
    }
   },
   "outputs": [
    {
     "data": {
      "text/html": "<div>\n<style scoped>\n    .dataframe tbody tr th:only-of-type {\n        vertical-align: middle;\n    }\n\n    .dataframe tbody tr th {\n        vertical-align: top;\n    }\n\n    .dataframe thead th {\n        text-align: right;\n    }\n</style>\n<table border=\"1\" class=\"dataframe\">\n  <thead>\n    <tr style=\"text-align: right;\">\n      <th></th>\n      <th>id</th>\n      <th>name</th>\n      <th>brand</th>\n      <th>categories</th>\n      <th>manufacturer</th>\n      <th>reviews.rating</th>\n      <th>reviews.text</th>\n      <th>reviews.username</th>\n    </tr>\n  </thead>\n  <tbody>\n    <tr>\n      <th>0</th>\n      <td>AVqkIhwDv8e3D1O-lebb</td>\n      <td>All-New Fire HD 8 Tablet, 8 HD Display, Wi-Fi,...</td>\n      <td>Amazon</td>\n      <td>Electronics,iPad &amp; Tablets,All Tablets,Fire Ta...</td>\n      <td>Amazon</td>\n      <td>5.0</td>\n      <td>This product so far has not disappointed. My c...</td>\n      <td>Adapter</td>\n    </tr>\n    <tr>\n      <th>1</th>\n      <td>AVqkIhwDv8e3D1O-lebb</td>\n      <td>All-New Fire HD 8 Tablet, 8 HD Display, Wi-Fi,...</td>\n      <td>Amazon</td>\n      <td>Electronics,iPad &amp; Tablets,All Tablets,Fire Ta...</td>\n      <td>Amazon</td>\n      <td>5.0</td>\n      <td>great for beginner or experienced person. Boug...</td>\n      <td>truman</td>\n    </tr>\n    <tr>\n      <th>2</th>\n      <td>AVqkIhwDv8e3D1O-lebb</td>\n      <td>All-New Fire HD 8 Tablet, 8 HD Display, Wi-Fi,...</td>\n      <td>Amazon</td>\n      <td>Electronics,iPad &amp; Tablets,All Tablets,Fire Ta...</td>\n      <td>Amazon</td>\n      <td>5.0</td>\n      <td>Inexpensive tablet for him to use and learn on...</td>\n      <td>DaveZ</td>\n    </tr>\n    <tr>\n      <th>3</th>\n      <td>AVqkIhwDv8e3D1O-lebb</td>\n      <td>All-New Fire HD 8 Tablet, 8 HD Display, Wi-Fi,...</td>\n      <td>Amazon</td>\n      <td>Electronics,iPad &amp; Tablets,All Tablets,Fire Ta...</td>\n      <td>Amazon</td>\n      <td>4.0</td>\n      <td>I've had my Fire HD 8 two weeks now and I love...</td>\n      <td>Shacks</td>\n    </tr>\n    <tr>\n      <th>4</th>\n      <td>AVqkIhwDv8e3D1O-lebb</td>\n      <td>All-New Fire HD 8 Tablet, 8 HD Display, Wi-Fi,...</td>\n      <td>Amazon</td>\n      <td>Electronics,iPad &amp; Tablets,All Tablets,Fire Ta...</td>\n      <td>Amazon</td>\n      <td>5.0</td>\n      <td>I bought this for my grand daughter when she c...</td>\n      <td>explore42</td>\n    </tr>\n    <tr>\n      <th>...</th>\n      <td>...</td>\n      <td>...</td>\n      <td>...</td>\n      <td>...</td>\n      <td>...</td>\n      <td>...</td>\n      <td>...</td>\n      <td>...</td>\n    </tr>\n    <tr>\n      <th>67987</th>\n      <td>AVqkIdZiv8e3D1O-leaJ</td>\n      <td>Fire Tablet with Alexa, 7\" Display, 16 GB, Mag...</td>\n      <td>Amazon</td>\n      <td>Tablets,Fire Tablets,Electronics,iPad &amp; Tablet...</td>\n      <td>Amazon</td>\n      <td>5.0</td>\n      <td>This is a great tablet for the price. Amazon i...</td>\n      <td>litle</td>\n    </tr>\n    <tr>\n      <th>67988</th>\n      <td>AVqkIdZiv8e3D1O-leaJ</td>\n      <td>Fire Tablet with Alexa, 7\" Display, 16 GB, Mag...</td>\n      <td>Amazon</td>\n      <td>Tablets,Fire Tablets,Electronics,iPad &amp; Tablet...</td>\n      <td>Amazon</td>\n      <td>5.0</td>\n      <td>This tablet is the perfect size and so easy to...</td>\n      <td>gracie</td>\n    </tr>\n    <tr>\n      <th>67989</th>\n      <td>AVqkIdZiv8e3D1O-leaJ</td>\n      <td>Fire Tablet with Alexa, 7\" Display, 16 GB, Mag...</td>\n      <td>Amazon</td>\n      <td>Tablets,Fire Tablets,Electronics,iPad &amp; Tablet...</td>\n      <td>Amazon</td>\n      <td>4.0</td>\n      <td>Purchased this for my son. Has room to upgrade...</td>\n      <td>Hawk</td>\n    </tr>\n    <tr>\n      <th>67990</th>\n      <td>AVqkIdZiv8e3D1O-leaJ</td>\n      <td>Fire Tablet with Alexa, 7\" Display, 16 GB, Mag...</td>\n      <td>Amazon</td>\n      <td>Tablets,Fire Tablets,Electronics,iPad &amp; Tablet...</td>\n      <td>Amazon</td>\n      <td>5.0</td>\n      <td>I had some thoughts about getting this for a 5...</td>\n      <td>Mrbilly</td>\n    </tr>\n    <tr>\n      <th>67991</th>\n      <td>AVqkIdZiv8e3D1O-leaJ</td>\n      <td>Fire Tablet with Alexa, 7\" Display, 16 GB, Mag...</td>\n      <td>Amazon</td>\n      <td>Tablets,Fire Tablets,Electronics,iPad &amp; Tablet...</td>\n      <td>Amazon</td>\n      <td>5.0</td>\n      <td>this is a steal, have 8 gb model as well.This ...</td>\n      <td>tabman</td>\n    </tr>\n  </tbody>\n</table>\n<p>67992 rows × 8 columns</p>\n</div>",
      "text/plain": "                         id  \\\n0      AVqkIhwDv8e3D1O-lebb   \n1      AVqkIhwDv8e3D1O-lebb   \n2      AVqkIhwDv8e3D1O-lebb   \n3      AVqkIhwDv8e3D1O-lebb   \n4      AVqkIhwDv8e3D1O-lebb   \n...                     ...   \n67987  AVqkIdZiv8e3D1O-leaJ   \n67988  AVqkIdZiv8e3D1O-leaJ   \n67989  AVqkIdZiv8e3D1O-leaJ   \n67990  AVqkIdZiv8e3D1O-leaJ   \n67991  AVqkIdZiv8e3D1O-leaJ   \n\n                                                    name   brand  \\\n0      All-New Fire HD 8 Tablet, 8 HD Display, Wi-Fi,...  Amazon   \n1      All-New Fire HD 8 Tablet, 8 HD Display, Wi-Fi,...  Amazon   \n2      All-New Fire HD 8 Tablet, 8 HD Display, Wi-Fi,...  Amazon   \n3      All-New Fire HD 8 Tablet, 8 HD Display, Wi-Fi,...  Amazon   \n4      All-New Fire HD 8 Tablet, 8 HD Display, Wi-Fi,...  Amazon   \n...                                                  ...     ...   \n67987  Fire Tablet with Alexa, 7\" Display, 16 GB, Mag...  Amazon   \n67988  Fire Tablet with Alexa, 7\" Display, 16 GB, Mag...  Amazon   \n67989  Fire Tablet with Alexa, 7\" Display, 16 GB, Mag...  Amazon   \n67990  Fire Tablet with Alexa, 7\" Display, 16 GB, Mag...  Amazon   \n67991  Fire Tablet with Alexa, 7\" Display, 16 GB, Mag...  Amazon   \n\n                                              categories manufacturer  \\\n0      Electronics,iPad & Tablets,All Tablets,Fire Ta...       Amazon   \n1      Electronics,iPad & Tablets,All Tablets,Fire Ta...       Amazon   \n2      Electronics,iPad & Tablets,All Tablets,Fire Ta...       Amazon   \n3      Electronics,iPad & Tablets,All Tablets,Fire Ta...       Amazon   \n4      Electronics,iPad & Tablets,All Tablets,Fire Ta...       Amazon   \n...                                                  ...          ...   \n67987  Tablets,Fire Tablets,Electronics,iPad & Tablet...       Amazon   \n67988  Tablets,Fire Tablets,Electronics,iPad & Tablet...       Amazon   \n67989  Tablets,Fire Tablets,Electronics,iPad & Tablet...       Amazon   \n67990  Tablets,Fire Tablets,Electronics,iPad & Tablet...       Amazon   \n67991  Tablets,Fire Tablets,Electronics,iPad & Tablet...       Amazon   \n\n       reviews.rating                                       reviews.text  \\\n0                 5.0  This product so far has not disappointed. My c...   \n1                 5.0  great for beginner or experienced person. Boug...   \n2                 5.0  Inexpensive tablet for him to use and learn on...   \n3                 4.0  I've had my Fire HD 8 two weeks now and I love...   \n4                 5.0  I bought this for my grand daughter when she c...   \n...               ...                                                ...   \n67987             5.0  This is a great tablet for the price. Amazon i...   \n67988             5.0  This tablet is the perfect size and so easy to...   \n67989             4.0  Purchased this for my son. Has room to upgrade...   \n67990             5.0  I had some thoughts about getting this for a 5...   \n67991             5.0  this is a steal, have 8 gb model as well.This ...   \n\n      reviews.username  \n0              Adapter  \n1               truman  \n2                DaveZ  \n3               Shacks  \n4            explore42  \n...                ...  \n67987            litle  \n67988           gracie  \n67989             Hawk  \n67990          Mrbilly  \n67991           tabman  \n\n[67992 rows x 8 columns]"
     },
     "metadata": {},
     "output_type": "execute_result",
     "execution_count": 15
    }
   ],
   "source": [
    "result"
   ]
  },
  {
   "cell_type": "code",
   "execution_count": 16,
   "metadata": {
    "pycharm": {
     "is_executing": false
    }
   },
   "outputs": [],
   "source": [
    "list_of_unique_product = list(result[\"id\"].unique())"
   ]
  },
  {
   "cell_type": "code",
   "execution_count": 17,
   "metadata": {
    "pycharm": {
     "is_executing": false
    }
   },
   "outputs": [],
   "source": [
    "result[\"id\"] = result[\"id\"].apply(lambda x: list_of_unique_product.index(x) + 1)"
   ]
  },
  {
   "cell_type": "code",
   "execution_count": 18,
   "metadata": {
    "pycharm": {
     "is_executing": false
    }
   },
   "outputs": [
    {
     "data": {
      "text/plain": "92"
     },
     "metadata": {},
     "output_type": "execute_result",
     "execution_count": 18
    }
   ],
   "source": [
    "len(list_of_unique_product)"
   ]
  },
  {
   "cell_type": "code",
   "execution_count": 19,
   "metadata": {
    "pycharm": {
     "is_executing": false
    }
   },
   "outputs": [
    {
     "data": {
      "text/plain": "['Amazon',\n 'Amazon Digital Services, Inc',\n 'AmazonBasics',\n 'Amazon Digital Services',\n 'Amazon.com']"
     },
     "metadata": {},
     "output_type": "execute_result",
     "execution_count": 19
    }
   ],
   "source": [
    "list_of_unique_manufacturer = list(result[\"manufacturer\"].unique())\n",
    "list_of_unique_manufacturer"
   ]
  },
  {
   "cell_type": "code",
   "execution_count": 20,
   "metadata": {
    "pycharm": {
     "is_executing": false
    }
   },
   "outputs": [],
   "source": [
    "def generateAge(x):\n",
    "    r = random.random()\n",
    "    if r <= 0.08:\n",
    "        return random.randint(18,25)\n",
    "    elif r <= 0.35:\n",
    "        return random.randint(25,34)\n",
    "    elif r <= 0.57 :\n",
    "        return random.randint(35,44)\n",
    "    elif r<= 0.74:\n",
    "        return random.randint(45,54)\n",
    "    elif r<= 0.90:\n",
    "        return random.randint(45,60)\n",
    "    else:\n",
    "        return random.randint(16,70)\n",
    "\n",
    "result['age']= result['id'].apply(generateAge)"
   ]
  },
  {
   "cell_type": "code",
   "execution_count": 21,
   "outputs": [],
   "source": [
    "result.head()\n",
    "\n",
    "from neo4j import GraphDatabase"
   ],
   "metadata": {
    "collapsed": false,
    "pycharm": {
     "name": "#%%\n",
     "is_executing": false
    }
   }
  },
  {
   "cell_type": "code",
   "execution_count": 22,
   "outputs": [],
   "source": [
    "class Neo4jConnection:\n",
    "    \n",
    "    def __init__(self, uri, user, pwd):\n",
    "        self.__uri = uri\n",
    "        self.__user = user\n",
    "        self.__pwd = pwd\n",
    "        self.__driver = None\n",
    "        try:\n",
    "            self.__driver = GraphDatabase.driver(self.__uri, auth=(self.__user, self.__pwd))\n",
    "        except Exception as e:\n",
    "            print(\"Failed to create the driver:\", e)\n",
    "        \n",
    "    def close(self):\n",
    "        if self.__driver is not None:\n",
    "            self.__driver.close()\n",
    "        \n",
    "    def query(self, query, parameters=None, db=None):\n",
    "        assert self.__driver is not None, \"Driver not initialized!\"\n",
    "        session = None\n",
    "        response = None\n",
    "        try: \n",
    "            session = self.__driver.session(database=db) if db is not None else self.__driver.session() \n",
    "            response = list(session.run(query, parameters))\n",
    "        except Exception as e:\n",
    "            print(\"Query failed:\", e)\n",
    "        finally: \n",
    "            if session is not None:\n",
    "                session.close()\n",
    "        return response"
   ],
   "metadata": {
    "collapsed": false,
    "pycharm": {
     "name": "#%%\n",
     "is_executing": false
    }
   }
  },
  {
   "cell_type": "code",
   "execution_count": 23,
   "outputs": [],
   "source": [
    "conn = Neo4jConnection(uri=\"neo4j://localhost:7687\", \n",
    "                       user=\"neo4j\",              \n",
    "                       pwd=\"Anni,0710\")"
   ],
   "metadata": {
    "collapsed": false,
    "pycharm": {
     "name": "#%%\n",
     "is_executing": false
    }
   }
  },
  {
   "cell_type": "code",
   "execution_count": null,
   "outputs": [],
   "source": [
    "def add_users(table):\n",
    "    # Adds user nodes to the Neo4j graph.\n",
    "    query = '''\n",
    "            UNWIND $rows AS row\n",
    "            MERGE (u:User {Username: row.reviews.username})\n",
    "            RETURN count(*) as total\n",
    "            '''\n",
    "    return conn.query(query, parameters = {'rows':table.to_dict('records')})\n",
    "\n",
    "\n",
    "\n"
   ],
   "metadata": {
    "collapsed": false,
    "pycharm": {
     "name": "#%%\n"
    }
   }
  },
  {
   "cell_type": "code",
   "execution_count": null,
   "outputs": [],
   "source": [],
   "metadata": {
    "collapsed": false,
    "pycharm": {
     "name": "#%%\n"
    }
   }
  },
  {
   "cell_type": "code",
   "execution_count": 24,
   "outputs": [],
   "source": [
    "conn.close()\n",
    "\n"
   ],
   "metadata": {
    "collapsed": false,
    "pycharm": {
     "name": "#%%\n",
     "is_executing": false
    }
   }
  }
 ],
 "metadata": {
  "kernelspec": {
   "name": "pycharm-381a9001",
   "language": "python",
   "display_name": "PyCharm (DS4300-Final-Project-main)"
  },
  "language_info": {
   "codemirror_mode": {
    "name": "ipython",
    "version": 3
   },
   "file_extension": ".py",
   "mimetype": "text/x-python",
   "name": "python",
   "nbconvert_exporter": "python",
   "pygments_lexer": "ipython3",
   "version": "3.7.4"
  },
  "pycharm": {
   "stem_cell": {
    "cell_type": "raw",
    "source": [],
    "metadata": {
     "collapsed": false
    }
   }
  }
 },
 "nbformat": 4,
 "nbformat_minor": 2
}