{
 "cells": [
  {
   "cell_type": "code",
   "execution_count": 33,
   "metadata": {
    "pycharm": {
     "is_executing": false
    }
   },
   "outputs": [],
   "source": [
    "import random\n",
    "import pandas as pd\n"
   ]
  },
  {
   "cell_type": "code",
   "execution_count": 34,
   "metadata": {
    "pycharm": {
     "is_executing": false
    }
   },
   "outputs": [],
   "source": [
    "df_1 = pd.read_csv(\"data_1.csv\", low_memory = False)\n",
    "df_2 = pd.read_csv(\"data_2.csv\", low_memory = False)\n",
    "df_3 = pd.read_csv(\"data_3.csv\", low_memory = False)"
   ]
  },
  {
   "cell_type": "code",
   "execution_count": 35,
   "metadata": {
    "pycharm": {
     "is_executing": false
    }
   },
   "outputs": [],
   "source": [
    "dropped_column_name_1 = ['keys', 'reviews.date', 'reviews.dateAdded', 'reviews.dateSeen',\n",
    "                         'reviews.didPurchase', 'reviews.doRecommend', 'reviews.id',\n",
    "                         'reviews.numHelpful','reviews.sourceURLs', 'reviews.title', \n",
    "                         'reviews.userCity', 'reviews.userProvince','asins']\n",
    "dropped_column_name_2 = ['dateAdded', 'dateUpdated', 'primaryCategories', 'imageURLs', 'keys', \n",
    "                         'manufacturerNumber', 'reviews.date', 'reviews.dateSeen', 'reviews.didPurchase',\n",
    "                         'reviews.doRecommend', 'reviews.numHelpful', 'reviews.sourceURLs', 'reviews.title',\n",
    "                         'sourceURLs', 'reviews.id','asins']\n",
    "dropped_column_name_3 = ['dateAdded', 'dateUpdated', 'primaryCategories', 'imageURLs', 'keys', \n",
    "                         'manufacturerNumber', 'reviews.date', 'reviews.dateAdded','reviews.dateSeen', \n",
    "                         'reviews.doRecommend', 'reviews.numHelpful', 'reviews.sourceURLs', 'reviews.title',\n",
    "                         'sourceURLs', 'reviews.id','asins']"
   ]
  },
  {
   "cell_type": "code",
   "execution_count": 36,
   "metadata": {
    "pycharm": {
     "is_executing": false
    }
   },
   "outputs": [],
   "source": [
    "order_of_column = ['id', 'name',  'brand', 'categories', 'manufacturer', 'reviews.rating', 'reviews.text', 'reviews.username']"
   ]
  },
  {
   "cell_type": "code",
   "execution_count": 37,
   "metadata": {
    "pycharm": {
     "is_executing": false
    }
   },
   "outputs": [],
   "source": [
    "df_1 = df_1.drop(columns = dropped_column_name_1)[order_of_column]\n",
    "df_2 = df_2.drop(columns = dropped_column_name_2)[order_of_column]\n",
    "df_3 = df_3.drop(columns = dropped_column_name_3)[order_of_column]"
   ]
  },
  {
   "cell_type": "code",
   "execution_count": 38,
   "metadata": {
    "pycharm": {
     "is_executing": false
    }
   },
   "outputs": [
    {
     "data": {
      "text/plain": "                     id                                               name  \\\n0  AVqkIhwDv8e3D1O-lebb  All-New Fire HD 8 Tablet, 8 HD Display, Wi-Fi,...   \n1  AVqkIhwDv8e3D1O-lebb  All-New Fire HD 8 Tablet, 8 HD Display, Wi-Fi,...   \n2  AVqkIhwDv8e3D1O-lebb  All-New Fire HD 8 Tablet, 8 HD Display, Wi-Fi,...   \n3  AVqkIhwDv8e3D1O-lebb  All-New Fire HD 8 Tablet, 8 HD Display, Wi-Fi,...   \n4  AVqkIhwDv8e3D1O-lebb  All-New Fire HD 8 Tablet, 8 HD Display, Wi-Fi,...   \n\n    brand                                         categories manufacturer  \\\n0  Amazon  Electronics,iPad & Tablets,All Tablets,Fire Ta...       Amazon   \n1  Amazon  Electronics,iPad & Tablets,All Tablets,Fire Ta...       Amazon   \n2  Amazon  Electronics,iPad & Tablets,All Tablets,Fire Ta...       Amazon   \n3  Amazon  Electronics,iPad & Tablets,All Tablets,Fire Ta...       Amazon   \n4  Amazon  Electronics,iPad & Tablets,All Tablets,Fire Ta...       Amazon   \n\n   reviews.rating                                       reviews.text  \\\n0             5.0  This product so far has not disappointed. My c...   \n1             5.0  great for beginner or experienced person. Boug...   \n2             5.0  Inexpensive tablet for him to use and learn on...   \n3             4.0  I've had my Fire HD 8 two weeks now and I love...   \n4             5.0  I bought this for my grand daughter when she c...   \n\n  reviews.username  \n0          Adapter  \n1           truman  \n2            DaveZ  \n3           Shacks  \n4        explore42  ",
      "text/html": "<div>\n<style scoped>\n    .dataframe tbody tr th:only-of-type {\n        vertical-align: middle;\n    }\n\n    .dataframe tbody tr th {\n        vertical-align: top;\n    }\n\n    .dataframe thead th {\n        text-align: right;\n    }\n</style>\n<table border=\"1\" class=\"dataframe\">\n  <thead>\n    <tr style=\"text-align: right;\">\n      <th></th>\n      <th>id</th>\n      <th>name</th>\n      <th>brand</th>\n      <th>categories</th>\n      <th>manufacturer</th>\n      <th>reviews.rating</th>\n      <th>reviews.text</th>\n      <th>reviews.username</th>\n    </tr>\n  </thead>\n  <tbody>\n    <tr>\n      <th>0</th>\n      <td>AVqkIhwDv8e3D1O-lebb</td>\n      <td>All-New Fire HD 8 Tablet, 8 HD Display, Wi-Fi,...</td>\n      <td>Amazon</td>\n      <td>Electronics,iPad &amp; Tablets,All Tablets,Fire Ta...</td>\n      <td>Amazon</td>\n      <td>5.0</td>\n      <td>This product so far has not disappointed. My c...</td>\n      <td>Adapter</td>\n    </tr>\n    <tr>\n      <th>1</th>\n      <td>AVqkIhwDv8e3D1O-lebb</td>\n      <td>All-New Fire HD 8 Tablet, 8 HD Display, Wi-Fi,...</td>\n      <td>Amazon</td>\n      <td>Electronics,iPad &amp; Tablets,All Tablets,Fire Ta...</td>\n      <td>Amazon</td>\n      <td>5.0</td>\n      <td>great for beginner or experienced person. Boug...</td>\n      <td>truman</td>\n    </tr>\n    <tr>\n      <th>2</th>\n      <td>AVqkIhwDv8e3D1O-lebb</td>\n      <td>All-New Fire HD 8 Tablet, 8 HD Display, Wi-Fi,...</td>\n      <td>Amazon</td>\n      <td>Electronics,iPad &amp; Tablets,All Tablets,Fire Ta...</td>\n      <td>Amazon</td>\n      <td>5.0</td>\n      <td>Inexpensive tablet for him to use and learn on...</td>\n      <td>DaveZ</td>\n    </tr>\n    <tr>\n      <th>3</th>\n      <td>AVqkIhwDv8e3D1O-lebb</td>\n      <td>All-New Fire HD 8 Tablet, 8 HD Display, Wi-Fi,...</td>\n      <td>Amazon</td>\n      <td>Electronics,iPad &amp; Tablets,All Tablets,Fire Ta...</td>\n      <td>Amazon</td>\n      <td>4.0</td>\n      <td>I've had my Fire HD 8 two weeks now and I love...</td>\n      <td>Shacks</td>\n    </tr>\n    <tr>\n      <th>4</th>\n      <td>AVqkIhwDv8e3D1O-lebb</td>\n      <td>All-New Fire HD 8 Tablet, 8 HD Display, Wi-Fi,...</td>\n      <td>Amazon</td>\n      <td>Electronics,iPad &amp; Tablets,All Tablets,Fire Ta...</td>\n      <td>Amazon</td>\n      <td>5.0</td>\n      <td>I bought this for my grand daughter when she c...</td>\n      <td>explore42</td>\n    </tr>\n  </tbody>\n</table>\n</div>"
     },
     "metadata": {},
     "output_type": "execute_result",
     "execution_count": 38
    }
   ],
   "source": [
    "df_1.head(5)"
   ]
  },
  {
   "cell_type": "code",
   "execution_count": 39,
   "metadata": {
    "pycharm": {
     "is_executing": false
    }
   },
   "outputs": [
    {
     "data": {
      "text/plain": "                     id                                               name  \\\n0  AVpgNzjwLJeJML43Kpxn  AmazonBasics AAA Performance Alkaline Batterie...   \n1  AVpgNzjwLJeJML43Kpxn  AmazonBasics AAA Performance Alkaline Batterie...   \n2  AVpgNzjwLJeJML43Kpxn  AmazonBasics AAA Performance Alkaline Batterie...   \n3  AVpgNzjwLJeJML43Kpxn  AmazonBasics AAA Performance Alkaline Batterie...   \n4  AVpgNzjwLJeJML43Kpxn  AmazonBasics AAA Performance Alkaline Batterie...   \n\n          brand                                         categories  \\\n0  Amazonbasics  AA,AAA,Health,Electronics,Health & Household,C...   \n1  Amazonbasics  AA,AAA,Health,Electronics,Health & Household,C...   \n2  Amazonbasics  AA,AAA,Health,Electronics,Health & Household,C...   \n3  Amazonbasics  AA,AAA,Health,Electronics,Health & Household,C...   \n4  Amazonbasics  AA,AAA,Health,Electronics,Health & Household,C...   \n\n   manufacturer  reviews.rating  \\\n0  AmazonBasics               3   \n1  AmazonBasics               4   \n2  AmazonBasics               5   \n3  AmazonBasics               5   \n4  AmazonBasics               5   \n\n                                        reviews.text  reviews.username  \n0  I order 3 of them and one of the item is bad q...        Byger yang  \n1  Bulk is always the less expensive way to go fo...              ByMG  \n2  Well they are not Duracell but for the price i...  BySharon Lambert  \n3  Seem to work as well as name brand batteries a...     Bymark sexson  \n4  These batteries are very long lasting the pric...           Bylinda  ",
      "text/html": "<div>\n<style scoped>\n    .dataframe tbody tr th:only-of-type {\n        vertical-align: middle;\n    }\n\n    .dataframe tbody tr th {\n        vertical-align: top;\n    }\n\n    .dataframe thead th {\n        text-align: right;\n    }\n</style>\n<table border=\"1\" class=\"dataframe\">\n  <thead>\n    <tr style=\"text-align: right;\">\n      <th></th>\n      <th>id</th>\n      <th>name</th>\n      <th>brand</th>\n      <th>categories</th>\n      <th>manufacturer</th>\n      <th>reviews.rating</th>\n      <th>reviews.text</th>\n      <th>reviews.username</th>\n    </tr>\n  </thead>\n  <tbody>\n    <tr>\n      <th>0</th>\n      <td>AVpgNzjwLJeJML43Kpxn</td>\n      <td>AmazonBasics AAA Performance Alkaline Batterie...</td>\n      <td>Amazonbasics</td>\n      <td>AA,AAA,Health,Electronics,Health &amp; Household,C...</td>\n      <td>AmazonBasics</td>\n      <td>3</td>\n      <td>I order 3 of them and one of the item is bad q...</td>\n      <td>Byger yang</td>\n    </tr>\n    <tr>\n      <th>1</th>\n      <td>AVpgNzjwLJeJML43Kpxn</td>\n      <td>AmazonBasics AAA Performance Alkaline Batterie...</td>\n      <td>Amazonbasics</td>\n      <td>AA,AAA,Health,Electronics,Health &amp; Household,C...</td>\n      <td>AmazonBasics</td>\n      <td>4</td>\n      <td>Bulk is always the less expensive way to go fo...</td>\n      <td>ByMG</td>\n    </tr>\n    <tr>\n      <th>2</th>\n      <td>AVpgNzjwLJeJML43Kpxn</td>\n      <td>AmazonBasics AAA Performance Alkaline Batterie...</td>\n      <td>Amazonbasics</td>\n      <td>AA,AAA,Health,Electronics,Health &amp; Household,C...</td>\n      <td>AmazonBasics</td>\n      <td>5</td>\n      <td>Well they are not Duracell but for the price i...</td>\n      <td>BySharon Lambert</td>\n    </tr>\n    <tr>\n      <th>3</th>\n      <td>AVpgNzjwLJeJML43Kpxn</td>\n      <td>AmazonBasics AAA Performance Alkaline Batterie...</td>\n      <td>Amazonbasics</td>\n      <td>AA,AAA,Health,Electronics,Health &amp; Household,C...</td>\n      <td>AmazonBasics</td>\n      <td>5</td>\n      <td>Seem to work as well as name brand batteries a...</td>\n      <td>Bymark sexson</td>\n    </tr>\n    <tr>\n      <th>4</th>\n      <td>AVpgNzjwLJeJML43Kpxn</td>\n      <td>AmazonBasics AAA Performance Alkaline Batterie...</td>\n      <td>Amazonbasics</td>\n      <td>AA,AAA,Health,Electronics,Health &amp; Household,C...</td>\n      <td>AmazonBasics</td>\n      <td>5</td>\n      <td>These batteries are very long lasting the pric...</td>\n      <td>Bylinda</td>\n    </tr>\n  </tbody>\n</table>\n</div>"
     },
     "metadata": {},
     "output_type": "execute_result",
     "execution_count": 39
    }
   ],
   "source": [
    "df_2.head(5)"
   ]
  },
  {
   "cell_type": "code",
   "execution_count": 40,
   "metadata": {
    "pycharm": {
     "is_executing": false
    }
   },
   "outputs": [
    {
     "data": {
      "text/plain": "                     id                                               name  \\\n0  AVqVGZNvQMlgsOJE6eUY  Amazon Kindle E-Reader 6\" Wifi (8th Generation...   \n1  AVqVGZNvQMlgsOJE6eUY  Amazon Kindle E-Reader 6\" Wifi (8th Generation...   \n2  AVqVGZNvQMlgsOJE6eUY  Amazon Kindle E-Reader 6\" Wifi (8th Generation...   \n3  AVqVGZNvQMlgsOJE6eUY  Amazon Kindle E-Reader 6\" Wifi (8th Generation...   \n4  AVqVGZNvQMlgsOJE6eUY  Amazon Kindle E-Reader 6\" Wifi (8th Generation...   \n\n    brand                                         categories manufacturer  \\\n0  Amazon  Computers,Electronics Features,Tablets,Electro...       Amazon   \n1  Amazon  Computers,Electronics Features,Tablets,Electro...       Amazon   \n2  Amazon  Computers,Electronics Features,Tablets,Electro...       Amazon   \n3  Amazon  Computers,Electronics Features,Tablets,Electro...       Amazon   \n4  Amazon  Computers,Electronics Features,Tablets,Electro...       Amazon   \n\n   reviews.rating                                       reviews.text  \\\n0               3  I thought it would be as big as small paper bu...   \n1               5  This kindle is light and easy to use especiall...   \n2               4  Didnt know how much i'd use a kindle so went f...   \n3               5  I am 100 happy with my purchase. I caught it o...   \n4               5  Solid entry level Kindle. Great for kids. Gift...   \n\n  reviews.username  \n0           llyyue  \n1           Charmi  \n2     johnnyjojojo  \n3          Kdperry  \n4      Johnnyblack  ",
      "text/html": "<div>\n<style scoped>\n    .dataframe tbody tr th:only-of-type {\n        vertical-align: middle;\n    }\n\n    .dataframe tbody tr th {\n        vertical-align: top;\n    }\n\n    .dataframe thead th {\n        text-align: right;\n    }\n</style>\n<table border=\"1\" class=\"dataframe\">\n  <thead>\n    <tr style=\"text-align: right;\">\n      <th></th>\n      <th>id</th>\n      <th>name</th>\n      <th>brand</th>\n      <th>categories</th>\n      <th>manufacturer</th>\n      <th>reviews.rating</th>\n      <th>reviews.text</th>\n      <th>reviews.username</th>\n    </tr>\n  </thead>\n  <tbody>\n    <tr>\n      <th>0</th>\n      <td>AVqVGZNvQMlgsOJE6eUY</td>\n      <td>Amazon Kindle E-Reader 6\" Wifi (8th Generation...</td>\n      <td>Amazon</td>\n      <td>Computers,Electronics Features,Tablets,Electro...</td>\n      <td>Amazon</td>\n      <td>3</td>\n      <td>I thought it would be as big as small paper bu...</td>\n      <td>llyyue</td>\n    </tr>\n    <tr>\n      <th>1</th>\n      <td>AVqVGZNvQMlgsOJE6eUY</td>\n      <td>Amazon Kindle E-Reader 6\" Wifi (8th Generation...</td>\n      <td>Amazon</td>\n      <td>Computers,Electronics Features,Tablets,Electro...</td>\n      <td>Amazon</td>\n      <td>5</td>\n      <td>This kindle is light and easy to use especiall...</td>\n      <td>Charmi</td>\n    </tr>\n    <tr>\n      <th>2</th>\n      <td>AVqVGZNvQMlgsOJE6eUY</td>\n      <td>Amazon Kindle E-Reader 6\" Wifi (8th Generation...</td>\n      <td>Amazon</td>\n      <td>Computers,Electronics Features,Tablets,Electro...</td>\n      <td>Amazon</td>\n      <td>4</td>\n      <td>Didnt know how much i'd use a kindle so went f...</td>\n      <td>johnnyjojojo</td>\n    </tr>\n    <tr>\n      <th>3</th>\n      <td>AVqVGZNvQMlgsOJE6eUY</td>\n      <td>Amazon Kindle E-Reader 6\" Wifi (8th Generation...</td>\n      <td>Amazon</td>\n      <td>Computers,Electronics Features,Tablets,Electro...</td>\n      <td>Amazon</td>\n      <td>5</td>\n      <td>I am 100 happy with my purchase. I caught it o...</td>\n      <td>Kdperry</td>\n    </tr>\n    <tr>\n      <th>4</th>\n      <td>AVqVGZNvQMlgsOJE6eUY</td>\n      <td>Amazon Kindle E-Reader 6\" Wifi (8th Generation...</td>\n      <td>Amazon</td>\n      <td>Computers,Electronics Features,Tablets,Electro...</td>\n      <td>Amazon</td>\n      <td>5</td>\n      <td>Solid entry level Kindle. Great for kids. Gift...</td>\n      <td>Johnnyblack</td>\n    </tr>\n  </tbody>\n</table>\n</div>"
     },
     "metadata": {},
     "output_type": "execute_result",
     "execution_count": 40
    }
   ],
   "source": [
    "df_3.head(5)"
   ]
  },
  {
   "cell_type": "code",
   "execution_count": 41,
   "metadata": {
    "pycharm": {
     "is_executing": false
    }
   },
   "outputs": [],
   "source": [
    "result = pd.concat([df_1, df_2, df_3], ignore_index = True)"
   ]
  },
  {
   "cell_type": "code",
   "execution_count": 42,
   "metadata": {
    "pycharm": {
     "is_executing": false
    }
   },
   "outputs": [],
   "source": [
    "result.index.names = [\"index\"]\n",
    "result = result.reset_index()"
   ]
  },
  {
   "cell_type": "code",
   "execution_count": 43,
   "metadata": {
    "pycharm": {
     "is_executing": false
    }
   },
   "outputs": [],
   "source": [
    "list_of_unique_product = list(result[\"id\"].unique())"
   ]
  },
  {
   "cell_type": "code",
   "execution_count": 44,
   "metadata": {
    "pycharm": {
     "is_executing": false
    }
   },
   "outputs": [],
   "source": [
    "result[\"id\"] = result[\"id\"].apply(lambda x: list_of_unique_product.index(x) + 1)"
   ]
  },
  {
   "cell_type": "code",
   "execution_count": 45,
   "metadata": {
    "pycharm": {
     "is_executing": false
    }
   },
   "outputs": [
    {
     "data": {
      "text/plain": "92"
     },
     "metadata": {},
     "output_type": "execute_result",
     "execution_count": 45
    }
   ],
   "source": [
    "# number of unique products\n",
    "len(list_of_unique_product)"
   ]
  },
  {
   "cell_type": "code",
   "execution_count": 46,
   "metadata": {
    "pycharm": {
     "is_executing": false
    }
   },
   "outputs": [
    {
     "data": {
      "text/plain": "['Amazon',\n 'Amazon Digital Services, Inc',\n 'AmazonBasics',\n 'Amazon Digital Services',\n 'Amazon.com']"
     },
     "metadata": {},
     "output_type": "execute_result",
     "execution_count": 46
    }
   ],
   "source": [
    "list_of_unique_manufacturer = list(result[\"manufacturer\"].unique())\n",
    "list_of_unique_manufacturer"
   ]
  },
  {
   "cell_type": "code",
   "execution_count": 47,
   "metadata": {
    "pycharm": {
     "is_executing": false
    }
   },
   "outputs": [],
   "source": [
    "#rename coloumns\n",
    "result = result.rename(columns={\"reviews.username\": \"username\", \"reviews.text\":\"text\",\"reviews.rating\" : \"rating\"})"
   ]
  },
  {
   "cell_type": "code",
   "execution_count": 48,
   "metadata": {
    "pycharm": {
     "is_executing": false
    }
   },
   "outputs": [],
   "source": [
    "#Give each user a random age\n",
    "def generateAge(x):\n",
    "    r = random.random()\n",
    "    if r <= 0.08:\n",
    "        return random.randint(18,25)\n",
    "    elif r <= 0.35:\n",
    "        return random.randint(25,34)\n",
    "    elif r <= 0.57 :\n",
    "        return random.randint(35,44)\n",
    "    elif r<= 0.74:\n",
    "        return random.randint(45,54)\n",
    "    elif r<= 0.90:\n",
    "        return random.randint(45,60)\n",
    "    else:\n",
    "        return random.randint(16,70)\n",
    "\n",
    "result['age']= result['id'].apply(generateAge)"
   ]
  },
  {
   "cell_type": "code",
   "execution_count": 49,
   "metadata": {
    "pycharm": {
     "is_executing": false,
     "name": "#%%\n"
    }
   },
   "outputs": [
    {
     "data": {
      "text/plain": "   index  id                                               name   brand  \\\n0      0   1  All-New Fire HD 8 Tablet, 8 HD Display, Wi-Fi,...  Amazon   \n1      1   1  All-New Fire HD 8 Tablet, 8 HD Display, Wi-Fi,...  Amazon   \n2      2   1  All-New Fire HD 8 Tablet, 8 HD Display, Wi-Fi,...  Amazon   \n3      3   1  All-New Fire HD 8 Tablet, 8 HD Display, Wi-Fi,...  Amazon   \n4      4   1  All-New Fire HD 8 Tablet, 8 HD Display, Wi-Fi,...  Amazon   \n\n                                          categories manufacturer  rating  \\\n0  Electronics,iPad & Tablets,All Tablets,Fire Ta...       Amazon     5.0   \n1  Electronics,iPad & Tablets,All Tablets,Fire Ta...       Amazon     5.0   \n2  Electronics,iPad & Tablets,All Tablets,Fire Ta...       Amazon     5.0   \n3  Electronics,iPad & Tablets,All Tablets,Fire Ta...       Amazon     4.0   \n4  Electronics,iPad & Tablets,All Tablets,Fire Ta...       Amazon     5.0   \n\n                                                text   username  age  \n0  This product so far has not disappointed. My c...    Adapter   55  \n1  great for beginner or experienced person. Boug...     truman   33  \n2  Inexpensive tablet for him to use and learn on...      DaveZ   51  \n3  I've had my Fire HD 8 two weeks now and I love...     Shacks   26  \n4  I bought this for my grand daughter when she c...  explore42   52  ",
      "text/html": "<div>\n<style scoped>\n    .dataframe tbody tr th:only-of-type {\n        vertical-align: middle;\n    }\n\n    .dataframe tbody tr th {\n        vertical-align: top;\n    }\n\n    .dataframe thead th {\n        text-align: right;\n    }\n</style>\n<table border=\"1\" class=\"dataframe\">\n  <thead>\n    <tr style=\"text-align: right;\">\n      <th></th>\n      <th>index</th>\n      <th>id</th>\n      <th>name</th>\n      <th>brand</th>\n      <th>categories</th>\n      <th>manufacturer</th>\n      <th>rating</th>\n      <th>text</th>\n      <th>username</th>\n      <th>age</th>\n    </tr>\n  </thead>\n  <tbody>\n    <tr>\n      <th>0</th>\n      <td>0</td>\n      <td>1</td>\n      <td>All-New Fire HD 8 Tablet, 8 HD Display, Wi-Fi,...</td>\n      <td>Amazon</td>\n      <td>Electronics,iPad &amp; Tablets,All Tablets,Fire Ta...</td>\n      <td>Amazon</td>\n      <td>5.0</td>\n      <td>This product so far has not disappointed. My c...</td>\n      <td>Adapter</td>\n      <td>55</td>\n    </tr>\n    <tr>\n      <th>1</th>\n      <td>1</td>\n      <td>1</td>\n      <td>All-New Fire HD 8 Tablet, 8 HD Display, Wi-Fi,...</td>\n      <td>Amazon</td>\n      <td>Electronics,iPad &amp; Tablets,All Tablets,Fire Ta...</td>\n      <td>Amazon</td>\n      <td>5.0</td>\n      <td>great for beginner or experienced person. Boug...</td>\n      <td>truman</td>\n      <td>33</td>\n    </tr>\n    <tr>\n      <th>2</th>\n      <td>2</td>\n      <td>1</td>\n      <td>All-New Fire HD 8 Tablet, 8 HD Display, Wi-Fi,...</td>\n      <td>Amazon</td>\n      <td>Electronics,iPad &amp; Tablets,All Tablets,Fire Ta...</td>\n      <td>Amazon</td>\n      <td>5.0</td>\n      <td>Inexpensive tablet for him to use and learn on...</td>\n      <td>DaveZ</td>\n      <td>51</td>\n    </tr>\n    <tr>\n      <th>3</th>\n      <td>3</td>\n      <td>1</td>\n      <td>All-New Fire HD 8 Tablet, 8 HD Display, Wi-Fi,...</td>\n      <td>Amazon</td>\n      <td>Electronics,iPad &amp; Tablets,All Tablets,Fire Ta...</td>\n      <td>Amazon</td>\n      <td>4.0</td>\n      <td>I've had my Fire HD 8 two weeks now and I love...</td>\n      <td>Shacks</td>\n      <td>26</td>\n    </tr>\n    <tr>\n      <th>4</th>\n      <td>4</td>\n      <td>1</td>\n      <td>All-New Fire HD 8 Tablet, 8 HD Display, Wi-Fi,...</td>\n      <td>Amazon</td>\n      <td>Electronics,iPad &amp; Tablets,All Tablets,Fire Ta...</td>\n      <td>Amazon</td>\n      <td>5.0</td>\n      <td>I bought this for my grand daughter when she c...</td>\n      <td>explore42</td>\n      <td>52</td>\n    </tr>\n  </tbody>\n</table>\n</div>"
     },
     "metadata": {},
     "output_type": "execute_result",
     "execution_count": 49
    }
   ],
   "source": [
    "result.head()"
   ]
  },
  {
   "cell_type": "code",
   "execution_count": 50,
   "metadata": {
    "pycharm": {
     "is_executing": false
    }
   },
   "outputs": [],
   "source": [
    "from neo4j import GraphDatabase"
   ]
  },
  {
   "cell_type": "code",
   "execution_count": 51,
   "metadata": {
    "pycharm": {
     "is_executing": false,
     "name": "#%%\n"
    }
   },
   "outputs": [],
   "source": [
    "class Neo4jConnection:\n",
    "    \n",
    "    def __init__(self, uri, user, pwd):\n",
    "        self.__uri = uri\n",
    "        self.__user = user\n",
    "        self.__pwd = pwd\n",
    "        self.__driver = None\n",
    "        try:\n",
    "            self.__driver = GraphDatabase.driver(self.__uri, auth=(self.__user, self.__pwd))\n",
    "        except Exception as e:\n",
    "            print(\"Failed to create the driver:\", e)\n",
    "        \n",
    "    def close(self):\n",
    "        if self.__driver is not None:\n",
    "            self.__driver.close()\n",
    "        \n",
    "    def query(self, query, parameters=None, db=None):\n",
    "        assert self.__driver is not None, \"Driver not initialized!\"\n",
    "        session = None\n",
    "        response = None\n",
    "        try: \n",
    "            session = self.__driver.session(database=db) if db is not None else self.__driver.session() \n",
    "            response = list(session.run(query, parameters))\n",
    "        except Exception as e:\n",
    "            print(\"Query failed:\", e)\n",
    "        finally: \n",
    "            if session is not None:\n",
    "                session.close()\n",
    "        return response"
   ]
  },
  {
   "cell_type": "code",
   "execution_count": 52,
   "metadata": {
    "pycharm": {
     "is_executing": false,
     "name": "#%%\n"
    }
   },
   "outputs": [],
   "source": [
    "conn = Neo4jConnection(uri=\"neo4j://localhost:7687\", \n",
    "                       user=\"neo4j\",              \n",
    "                       pwd=\"Anni,0710\")"
   ]
  },
  {
   "cell_type": "code",
   "execution_count": 53,
   "metadata": {
    "pycharm": {
     "is_executing": false,
     "name": "#%%\n"
    }
   },
   "outputs": [],
   "source": [
    "# def get_category_set(categories):\n",
    "#     # Cleans category dataframe column, creating a set of categories in the row.\n",
    "#     l = set(categories.split(\",\"))\n",
    "#     return l\n",
    "\n",
    "def get_category_list(categories):\n",
    "    # Cleans category dataframe column, creating a set of categories in the row.\n",
    "    l = list(categories.split(\",\"))\n",
    "    return l\n",
    "\n",
    "def get_productName_list(name):\n",
    "    # Cleans category dataframe column, creating a list of categories in the row.\n",
    "    s = '['\n",
    "    l = list(name.split(\",\"))\n",
    "    for n in l:\n",
    "        s+='\"'+n+'\",'\n",
    "    return s[0:-1]+']'\n"
   ]
  },
  {
   "cell_type": "code",
   "execution_count": 54,
   "metadata": {
    "pycharm": {
     "is_executing": false
    }
   },
   "outputs": [],
   "source": [
    "result['categories'] = result['categories'].map(get_category_list)"
   ]
  },
  {
   "cell_type": "code",
   "execution_count": 55,
   "metadata": {
    "pycharm": {
     "is_executing": false
    }
   },
   "outputs": [],
   "source": [
    "#clear database\n",
    "def clear():\n",
    "    conn.query('match(n) detach delete n')"
   ]
  },
  {
   "cell_type": "code",
   "execution_count": 56,
   "metadata": {
    "pycharm": {
     "is_executing": false
    }
   },
   "outputs": [
    {
     "data": {
      "text/plain": "[]"
     },
     "metadata": {},
     "output_type": "execute_result",
     "execution_count": 56
    }
   ],
   "source": [
    "# set constrain to nodes so that they won't repeatly added \n",
    "conn.query('CREATE CONSTRAINT reviews IF NOT EXISTS ON (r:Review) ASSERT r.id IS UNIQUE')\n",
    "conn.query('CREATE CONSTRAINT users IF NOT EXISTS ON (u:User) ASSERT u.username IS UNIQUE')\n",
    "conn.query('CREATE CONSTRAINT categories IF NOT EXISTS ON (c:Category) ASSERT c.category IS UNIQUE')\n",
    "conn.query('CREATE CONSTRAINT produccts IF NOT EXISTS ON (p:Product) ASSERT p.id IS UNIQUE')"
   ]
  },
  {
   "cell_type": "code",
   "execution_count": 57,
   "metadata": {
    "pycharm": {
     "is_executing": false
    }
   },
   "outputs": [],
   "source": [
    "# Adds user,product nodes and the relation: user reviews product to the Neo4j graph.\n",
    "def add_users_products(dataframe):\n",
    "    query = '''\n",
    "    UNWIND $rows AS row\n",
    "    MERGE (u:User {username: row.username, age: row.age})\n",
    "    MERGE (p:Product {id: row.id, name: row.name, brand:row.brand, manufacturer:row.manufacturer})\n",
    "    merge (u)-[:Reviews {id:row.index,rating:row.rating, text:row.text}]->(p)\n",
    "    '''\n",
    "    return conn.query(query, parameters = {'rows':dataframe.to_dict('records')})\n",
    "    "
   ]
  },
  {
   "cell_type": "code",
   "execution_count": 58,
   "metadata": {
    "pycharm": {
     "is_executing": false
    }
   },
   "outputs": [],
   "source": [
    "#Adds category nodes to the Neo4j graph.\n",
    "def add_categories():\n",
    "    for review_id,info in result.head().iterrows():\n",
    "        review_id,product_id, name,brand,categories,manufacturer,reviewsRating,reviewsText,username,age = info\n",
    "        for c in categories:\n",
    "            c = '\"' + c +'\"'\n",
    "            query = ''' \n",
    "            create(c:Category {category: \n",
    "            ''' + c + '''})'''\n",
    "            conn.query(query)\n",
    "   "
   ]
  },
  {
   "cell_type": "code",
   "execution_count": 59,
   "metadata": {
    "pycharm": {
     "is_executing": false
    }
   },
   "outputs": [],
   "source": [
    "def add_product_categories_relation(dataframe):\n",
    "    query = '''\n",
    "    UNWIND $rows as row\n",
    "    UNWIND row.categories AS category_name\n",
    "    MATCH (p:Product {id: row.id, name: row.name, brand:row.brand, manufacturer:row.manufacturer})\n",
    "    MATCH (c:Category {category: category_name})\n",
    "    MERGE (p)-[:IN_CATEGORY]->(c)\n",
    "   '''\n",
    "    return conn.query(query, parameters = {'rows':dataframe.to_dict('records')})\n"
   ]
  },
  {
   "cell_type": "code",
   "execution_count": 60,
   "metadata": {
    "pycharm": {
     "is_executing": false
    }
   },
   "outputs": [],
   "source": [
    "# # Adds review nodes to the Neo4j graph.\n",
    "# def add_reviews(dataframe):\n",
    "#     query = '''\n",
    "#     UNWIND $rows AS row\n",
    "#     MERGE (r:Reviews {id: row.index, text:row.text})\n",
    "#     RETURN count(*) as total\n",
    "#     '''\n",
    "#     return conn.query(query, parameters = {'rows':dataframe.to_dict('records')})\n",
    "    "
   ]
  },
  {
   "cell_type": "code",
   "execution_count": 61,
   "metadata": {
    "pycharm": {
     "is_executing": false
    }
   },
   "outputs": [
    {
     "name": "stdout",
     "text": [
      "Query failed: {code: Neo.ClientError.Schema.ConstraintValidationFailed} {message: Node(40929) already exists with label `Category` and property `category` = 'Electronics'}\n",
      "Query failed: {code: Neo.ClientError.Schema.ConstraintValidationFailed} {message: Node(40930) already exists with label `Category` and property `category` = 'iPad & Tablets'}\n",
      "Query failed: {code: Neo.ClientError.Schema.ConstraintValidationFailed} {message: Node(40931) already exists with label `Category` and property `category` = 'All Tablets'}\n",
      "Query failed: {code: Neo.ClientError.Schema.ConstraintValidationFailed} {message: Node(40932) already exists with label `Category` and property `category` = 'Fire Tablets'}\n",
      "Query failed: {code: Neo.ClientError.Schema.ConstraintValidationFailed} {message: Node(40933) already exists with label `Category` and property `category` = 'Tablets'}\n",
      "Query failed: {code: Neo.ClientError.Schema.ConstraintValidationFailed} {message: Node(40934) already exists with label `Category` and property `category` = 'Computers & Tablets'}\n",
      "Query failed: {code: Neo.ClientError.Schema.ConstraintValidationFailed} {message: Node(40929) already exists with label `Category` and property `category` = 'Electronics'}\n",
      "Query failed: {code: Neo.ClientError.Schema.ConstraintValidationFailed} {message: Node(40930) already exists with label `Category` and property `category` = 'iPad & Tablets'}\n",
      "Query failed: {code: Neo.ClientError.Schema.ConstraintValidationFailed} {message: Node(40931) already exists with label `Category` and property `category` = 'All Tablets'}\n",
      "Query failed: {code: Neo.ClientError.Schema.ConstraintValidationFailed} {message: Node(40932) already exists with label `Category` and property `category` = 'Fire Tablets'}\n",
      "Query failed: {code: Neo.ClientError.Schema.ConstraintValidationFailed} {message: Node(40933) already exists with label `Category` and property `category` = 'Tablets'}\n",
      "Query failed: {code: Neo.ClientError.Schema.ConstraintValidationFailed} {message: Node(40934) already exists with label `Category` and property `category` = 'Computers & Tablets'}\n",
      "Query failed: {code: Neo.ClientError.Schema.ConstraintValidationFailed} {message: Node(40929) already exists with label `Category` and property `category` = 'Electronics'}\n",
      "Query failed: {code: Neo.ClientError.Schema.ConstraintValidationFailed} {message: Node(40930) already exists with label `Category` and property `category` = 'iPad & Tablets'}\n",
      "Query failed: {code: Neo.ClientError.Schema.ConstraintValidationFailed} {message: Node(40931) already exists with label `Category` and property `category` = 'All Tablets'}\n",
      "Query failed: {code: Neo.ClientError.Schema.ConstraintValidationFailed} {message: Node(40932) already exists with label `Category` and property `category` = 'Fire Tablets'}\n",
      "Query failed: {code: Neo.ClientError.Schema.ConstraintValidationFailed} {message: Node(40933) already exists with label `Category` and property `category` = 'Tablets'}\n",
      "Query failed: {code: Neo.ClientError.Schema.ConstraintValidationFailed} {message: Node(40934) already exists with label `Category` and property `category` = 'Computers & Tablets'}\n",
      "Query failed: {code: Neo.ClientError.Schema.ConstraintValidationFailed} {message: Node(40929) already exists with label `Category` and property `category` = 'Electronics'}\n",
      "Query failed: {code: Neo.ClientError.Schema.ConstraintValidationFailed} {message: Node(40930) already exists with label `Category` and property `category` = 'iPad & Tablets'}\n",
      "Query failed: {code: Neo.ClientError.Schema.ConstraintValidationFailed} {message: Node(40931) already exists with label `Category` and property `category` = 'All Tablets'}\n",
      "Query failed: {code: Neo.ClientError.Schema.ConstraintValidationFailed} {message: Node(40932) already exists with label `Category` and property `category` = 'Fire Tablets'}\n",
      "Query failed: {code: Neo.ClientError.Schema.ConstraintValidationFailed} {message: Node(40933) already exists with label `Category` and property `category` = 'Tablets'}\n",
      "Query failed: {code: Neo.ClientError.Schema.ConstraintValidationFailed} {message: Node(40934) already exists with label `Category` and property `category` = 'Computers & Tablets'}\n"
     ],
     "output_type": "stream"
    },
    {
     "data": {
      "text/plain": "[]"
     },
     "metadata": {},
     "output_type": "execute_result",
     "execution_count": 61
    }
   ],
   "source": [
    "#construct graph\n",
    "clear()\n",
    "add_users_products(result.head(5))\n",
    "add_categories()\n",
    "add_product_categories_relation(result.head(5))\n",
    "# add_products(result.head(300))\n",
    "# add_users(result.head(300))"
   ]
  },
  {
   "cell_type": "code",
   "execution_count": 62,
   "metadata": {
    "pycharm": {
     "is_executing": false
    }
   },
   "outputs": [
    {
     "data": {
      "text/plain": "[<Record n=<Node id=40923 labels=frozenset({'User'}) properties={'age': 55, 'username': 'Adapter'}>>,\n <Record n=<Node id=40924 labels=frozenset({'Product'}) properties={'name': 'All-New Fire HD 8 Tablet, 8 HD Display, Wi-Fi, 16 GB - Includes Special Offers, Magenta', 'id': 1, 'brand': 'Amazon', 'manufacturer': 'Amazon'}>>,\n <Record n=<Node id=40925 labels=frozenset({'User'}) properties={'age': 33, 'username': 'truman'}>>,\n <Record n=<Node id=40926 labels=frozenset({'User'}) properties={'age': 51, 'username': 'DaveZ'}>>,\n <Record n=<Node id=40927 labels=frozenset({'User'}) properties={'age': 26, 'username': 'Shacks'}>>,\n <Record n=<Node id=40928 labels=frozenset({'User'}) properties={'age': 52, 'username': 'explore42'}>>,\n <Record n=<Node id=40929 labels=frozenset({'Category'}) properties={'category': 'Electronics'}>>,\n <Record n=<Node id=40930 labels=frozenset({'Category'}) properties={'category': 'iPad & Tablets'}>>,\n <Record n=<Node id=40931 labels=frozenset({'Category'}) properties={'category': 'All Tablets'}>>,\n <Record n=<Node id=40932 labels=frozenset({'Category'}) properties={'category': 'Fire Tablets'}>>,\n <Record n=<Node id=40933 labels=frozenset({'Category'}) properties={'category': 'Tablets'}>>,\n <Record n=<Node id=40934 labels=frozenset({'Category'}) properties={'category': 'Computers & Tablets'}>>]"
     },
     "metadata": {},
     "output_type": "execute_result",
     "execution_count": 62
    }
   ],
   "source": [
    "conn.query('match (n) return n')"
   ]
  },
  {
   "cell_type": "code",
   "execution_count": 62,
   "metadata": {
    "pycharm": {
     "is_executing": false
    }
   },
   "outputs": [],
   "source": []
  },
  {
   "cell_type": "code",
   "execution_count": 62,
   "metadata": {
    "pycharm": {
     "is_executing": false
    }
   },
   "outputs": [],
   "source": []
  },
  {
   "cell_type": "code",
   "execution_count": 63,
   "metadata": {
    "pycharm": {
     "is_executing": false
    }
   },
   "outputs": [],
   "source": [
    "conn.close()"
   ]
  },
  {
   "cell_type": "code",
   "execution_count": 63,
   "metadata": {
    "pycharm": {
     "is_executing": false
    }
   },
   "outputs": [],
   "source": []
  },
  {
   "cell_type": "code",
   "execution_count": 63,
   "metadata": {
    "pycharm": {
     "is_executing": false
    }
   },
   "outputs": [],
   "source": []
  },
  {
   "cell_type": "code",
   "execution_count": 63,
   "metadata": {
    "pycharm": {
     "is_executing": false
    }
   },
   "outputs": [],
   "source": []
  }
 ],
 "metadata": {
  "kernelspec": {
   "display_name": "PyCharm (DS4300-Final-Project-main)",
   "language": "python",
   "name": "pycharm-381a9001"
  },
  "language_info": {
   "codemirror_mode": {
    "name": "ipython",
    "version": 3
   },
   "file_extension": ".py",
   "mimetype": "text/x-python",
   "name": "python",
   "nbconvert_exporter": "python",
   "pygments_lexer": "ipython3",
   "version": "3.8.2"
  },
  "pycharm": {
   "stem_cell": {
    "cell_type": "raw",
    "metadata": {
     "collapsed": false
    },
    "source": []
   }
  }
 },
 "nbformat": 4,
 "nbformat_minor": 2
}